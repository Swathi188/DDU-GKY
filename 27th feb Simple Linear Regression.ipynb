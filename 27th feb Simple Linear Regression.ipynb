{
 "cells": [
  {
   "cell_type": "markdown",
   "id": "3daadfeb",
   "metadata": {},
   "source": [
    "## Linear Regression"
   ]
  },
  {
   "cell_type": "markdown",
   "id": "cf4d0f3c",
   "metadata": {},
   "source": [
    "###### Loading the dependencies"
   ]
  },
  {
   "cell_type": "code",
   "execution_count": 1,
   "id": "9ce11087",
   "metadata": {},
   "outputs": [],
   "source": [
    "import numpy as np\n",
    "import pandas as pd\n",
    "import seaborn as sns\n",
    "from sklearn.linear_model import LinearRegression\n",
    "from sklearn.metrics import r2_score,mean_absolute_error,mean_squared_error\n",
    "from sklearn.preprocessing import StandardScaler\n",
    "from sklearn.model_selection import train_test_split\n",
    "import matplotlib.pyplot as plt\n",
    "import warnings\n",
    "warnings.filterwarnings('ignore')"
   ]
  },
  {
   "cell_type": "markdown",
   "id": "9322e912",
   "metadata": {},
   "source": [
    "#### Loading the dataset"
   ]
  },
  {
   "cell_type": "code",
   "execution_count": 2,
   "id": "580ca23a",
   "metadata": {},
   "outputs": [],
   "source": [
    "from pydataset import data"
   ]
  },
  {
   "cell_type": "code",
   "execution_count": 3,
   "id": "78f65028",
   "metadata": {},
   "outputs": [
    {
     "data": {
      "text/html": [
       "<div>\n",
       "<style scoped>\n",
       "    .dataframe tbody tr th:only-of-type {\n",
       "        vertical-align: middle;\n",
       "    }\n",
       "\n",
       "    .dataframe tbody tr th {\n",
       "        vertical-align: top;\n",
       "    }\n",
       "\n",
       "    .dataframe thead th {\n",
       "        text-align: right;\n",
       "    }\n",
       "</style>\n",
       "<table border=\"1\" class=\"dataframe\">\n",
       "  <thead>\n",
       "    <tr style=\"text-align: right;\">\n",
       "      <th></th>\n",
       "      <th>time</th>\n",
       "      <th>AirPassengers</th>\n",
       "    </tr>\n",
       "  </thead>\n",
       "  <tbody>\n",
       "    <tr>\n",
       "      <th>1</th>\n",
       "      <td>1949.000000</td>\n",
       "      <td>112</td>\n",
       "    </tr>\n",
       "    <tr>\n",
       "      <th>2</th>\n",
       "      <td>1949.083333</td>\n",
       "      <td>118</td>\n",
       "    </tr>\n",
       "    <tr>\n",
       "      <th>3</th>\n",
       "      <td>1949.166667</td>\n",
       "      <td>132</td>\n",
       "    </tr>\n",
       "    <tr>\n",
       "      <th>4</th>\n",
       "      <td>1949.250000</td>\n",
       "      <td>129</td>\n",
       "    </tr>\n",
       "    <tr>\n",
       "      <th>5</th>\n",
       "      <td>1949.333333</td>\n",
       "      <td>121</td>\n",
       "    </tr>\n",
       "  </tbody>\n",
       "</table>\n",
       "</div>"
      ],
      "text/plain": [
       "          time  AirPassengers\n",
       "1  1949.000000            112\n",
       "2  1949.083333            118\n",
       "3  1949.166667            132\n",
       "4  1949.250000            129\n",
       "5  1949.333333            121"
      ]
     },
     "execution_count": 3,
     "metadata": {},
     "output_type": "execute_result"
    }
   ],
   "source": [
    "df=data('AirPassengers')\n",
    "df.head()"
   ]
  },
  {
   "cell_type": "code",
   "execution_count": 4,
   "id": "31fa8519",
   "metadata": {},
   "outputs": [
    {
     "name": "stdout",
     "output_type": "stream",
     "text": [
      "<class 'pandas.core.frame.DataFrame'>\n",
      "Int64Index: 144 entries, 1 to 144\n",
      "Data columns (total 2 columns):\n",
      " #   Column         Non-Null Count  Dtype  \n",
      "---  ------         --------------  -----  \n",
      " 0   time           144 non-null    float64\n",
      " 1   AirPassengers  144 non-null    int64  \n",
      "dtypes: float64(1), int64(1)\n",
      "memory usage: 3.4 KB\n"
     ]
    }
   ],
   "source": [
    "df.info()"
   ]
  },
  {
   "cell_type": "markdown",
   "id": "18ea44fa",
   "metadata": {},
   "source": [
    "#### selecting the features,only one column"
   ]
  },
  {
   "cell_type": "code",
   "execution_count": 5,
   "id": "d49ee6a1",
   "metadata": {},
   "outputs": [],
   "source": [
    "x=df[['time']].values"
   ]
  },
  {
   "cell_type": "code",
   "execution_count": 6,
   "id": "d904c21a",
   "metadata": {},
   "outputs": [
    {
     "data": {
      "text/plain": [
       "array([[1949.        ],\n",
       "       [1949.08333333],\n",
       "       [1949.16666667],\n",
       "       [1949.25      ],\n",
       "       [1949.33333333],\n",
       "       [1949.41666667],\n",
       "       [1949.5       ],\n",
       "       [1949.58333333],\n",
       "       [1949.66666667],\n",
       "       [1949.75      ],\n",
       "       [1949.83333333],\n",
       "       [1949.91666667],\n",
       "       [1950.        ],\n",
       "       [1950.08333333],\n",
       "       [1950.16666667],\n",
       "       [1950.25      ],\n",
       "       [1950.33333333],\n",
       "       [1950.41666667],\n",
       "       [1950.5       ],\n",
       "       [1950.58333333],\n",
       "       [1950.66666667],\n",
       "       [1950.75      ],\n",
       "       [1950.83333333],\n",
       "       [1950.91666667],\n",
       "       [1951.        ],\n",
       "       [1951.08333333],\n",
       "       [1951.16666667],\n",
       "       [1951.25      ],\n",
       "       [1951.33333333],\n",
       "       [1951.41666667],\n",
       "       [1951.5       ],\n",
       "       [1951.58333333],\n",
       "       [1951.66666667],\n",
       "       [1951.75      ],\n",
       "       [1951.83333333],\n",
       "       [1951.91666667],\n",
       "       [1952.        ],\n",
       "       [1952.08333333],\n",
       "       [1952.16666667],\n",
       "       [1952.25      ],\n",
       "       [1952.33333333],\n",
       "       [1952.41666667],\n",
       "       [1952.5       ],\n",
       "       [1952.58333333],\n",
       "       [1952.66666667],\n",
       "       [1952.75      ],\n",
       "       [1952.83333333],\n",
       "       [1952.91666667],\n",
       "       [1953.        ],\n",
       "       [1953.08333333],\n",
       "       [1953.16666667],\n",
       "       [1953.25      ],\n",
       "       [1953.33333333],\n",
       "       [1953.41666667],\n",
       "       [1953.5       ],\n",
       "       [1953.58333333],\n",
       "       [1953.66666667],\n",
       "       [1953.75      ],\n",
       "       [1953.83333333],\n",
       "       [1953.91666667],\n",
       "       [1954.        ],\n",
       "       [1954.08333333],\n",
       "       [1954.16666667],\n",
       "       [1954.25      ],\n",
       "       [1954.33333333],\n",
       "       [1954.41666667],\n",
       "       [1954.5       ],\n",
       "       [1954.58333333],\n",
       "       [1954.66666667],\n",
       "       [1954.75      ],\n",
       "       [1954.83333333],\n",
       "       [1954.91666667],\n",
       "       [1955.        ],\n",
       "       [1955.08333333],\n",
       "       [1955.16666667],\n",
       "       [1955.25      ],\n",
       "       [1955.33333333],\n",
       "       [1955.41666667],\n",
       "       [1955.5       ],\n",
       "       [1955.58333333],\n",
       "       [1955.66666667],\n",
       "       [1955.75      ],\n",
       "       [1955.83333333],\n",
       "       [1955.91666667],\n",
       "       [1956.        ],\n",
       "       [1956.08333333],\n",
       "       [1956.16666667],\n",
       "       [1956.25      ],\n",
       "       [1956.33333333],\n",
       "       [1956.41666667],\n",
       "       [1956.5       ],\n",
       "       [1956.58333333],\n",
       "       [1956.66666667],\n",
       "       [1956.75      ],\n",
       "       [1956.83333333],\n",
       "       [1956.91666667],\n",
       "       [1957.        ],\n",
       "       [1957.08333333],\n",
       "       [1957.16666667],\n",
       "       [1957.25      ],\n",
       "       [1957.33333333],\n",
       "       [1957.41666667],\n",
       "       [1957.5       ],\n",
       "       [1957.58333333],\n",
       "       [1957.66666667],\n",
       "       [1957.75      ],\n",
       "       [1957.83333333],\n",
       "       [1957.91666667],\n",
       "       [1958.        ],\n",
       "       [1958.08333333],\n",
       "       [1958.16666667],\n",
       "       [1958.25      ],\n",
       "       [1958.33333333],\n",
       "       [1958.41666667],\n",
       "       [1958.5       ],\n",
       "       [1958.58333333],\n",
       "       [1958.66666667],\n",
       "       [1958.75      ],\n",
       "       [1958.83333333],\n",
       "       [1958.91666667],\n",
       "       [1959.        ],\n",
       "       [1959.08333333],\n",
       "       [1959.16666667],\n",
       "       [1959.25      ],\n",
       "       [1959.33333333],\n",
       "       [1959.41666667],\n",
       "       [1959.5       ],\n",
       "       [1959.58333333],\n",
       "       [1959.66666667],\n",
       "       [1959.75      ],\n",
       "       [1959.83333333],\n",
       "       [1959.91666667],\n",
       "       [1960.        ],\n",
       "       [1960.08333333],\n",
       "       [1960.16666667],\n",
       "       [1960.25      ],\n",
       "       [1960.33333333],\n",
       "       [1960.41666667],\n",
       "       [1960.5       ],\n",
       "       [1960.58333333],\n",
       "       [1960.66666667],\n",
       "       [1960.75      ],\n",
       "       [1960.83333333],\n",
       "       [1960.91666667]])"
      ]
     },
     "execution_count": 6,
     "metadata": {},
     "output_type": "execute_result"
    }
   ],
   "source": [
    "x"
   ]
  },
  {
   "cell_type": "markdown",
   "id": "1b7581a6",
   "metadata": {},
   "source": [
    "#### selecting the target column"
   ]
  },
  {
   "cell_type": "code",
   "execution_count": 9,
   "id": "0db5a5c3",
   "metadata": {},
   "outputs": [],
   "source": [
    "y=df[['AirPassengers']].values"
   ]
  },
  {
   "cell_type": "code",
   "execution_count": 11,
   "id": "107722c8",
   "metadata": {},
   "outputs": [],
   "source": [
    "sc=StandardScaler()"
   ]
  },
  {
   "cell_type": "code",
   "execution_count": 12,
   "id": "76af9ffb",
   "metadata": {},
   "outputs": [],
   "source": [
    "x=sc.fit_transform(x)"
   ]
  },
  {
   "cell_type": "code",
   "execution_count": 13,
   "id": "d545a420",
   "metadata": {},
   "outputs": [
    {
     "data": {
      "text/plain": [
       "array([[-1.72006415],\n",
       "       [-1.69600731],\n",
       "       [-1.67195047],\n",
       "       [-1.64789363],\n",
       "       [-1.62383679],\n",
       "       [-1.59977995],\n",
       "       [-1.5757231 ],\n",
       "       [-1.55166626],\n",
       "       [-1.52760942],\n",
       "       [-1.50355258],\n",
       "       [-1.47949574],\n",
       "       [-1.4554389 ],\n",
       "       [-1.43138206],\n",
       "       [-1.40732522],\n",
       "       [-1.38326837],\n",
       "       [-1.35921153],\n",
       "       [-1.33515469],\n",
       "       [-1.31109785],\n",
       "       [-1.28704101],\n",
       "       [-1.26298417],\n",
       "       [-1.23892733],\n",
       "       [-1.21487049],\n",
       "       [-1.19081364],\n",
       "       [-1.1667568 ],\n",
       "       [-1.14269996],\n",
       "       [-1.11864312],\n",
       "       [-1.09458628],\n",
       "       [-1.07052944],\n",
       "       [-1.0464726 ],\n",
       "       [-1.02241576],\n",
       "       [-0.99835891],\n",
       "       [-0.97430207],\n",
       "       [-0.95024523],\n",
       "       [-0.92618839],\n",
       "       [-0.90213155],\n",
       "       [-0.87807471],\n",
       "       [-0.85401787],\n",
       "       [-0.82996102],\n",
       "       [-0.80590418],\n",
       "       [-0.78184734],\n",
       "       [-0.7577905 ],\n",
       "       [-0.73373366],\n",
       "       [-0.70967682],\n",
       "       [-0.68561998],\n",
       "       [-0.66156314],\n",
       "       [-0.63750629],\n",
       "       [-0.61344945],\n",
       "       [-0.58939261],\n",
       "       [-0.56533577],\n",
       "       [-0.54127893],\n",
       "       [-0.51722209],\n",
       "       [-0.49316525],\n",
       "       [-0.46910841],\n",
       "       [-0.44505156],\n",
       "       [-0.42099472],\n",
       "       [-0.39693788],\n",
       "       [-0.37288104],\n",
       "       [-0.3488242 ],\n",
       "       [-0.32476736],\n",
       "       [-0.30071052],\n",
       "       [-0.27665367],\n",
       "       [-0.25259683],\n",
       "       [-0.22853999],\n",
       "       [-0.20448315],\n",
       "       [-0.18042631],\n",
       "       [-0.15636947],\n",
       "       [-0.13231263],\n",
       "       [-0.10825579],\n",
       "       [-0.08419894],\n",
       "       [-0.0601421 ],\n",
       "       [-0.03608526],\n",
       "       [-0.01202842],\n",
       "       [ 0.01202842],\n",
       "       [ 0.03608526],\n",
       "       [ 0.0601421 ],\n",
       "       [ 0.08419894],\n",
       "       [ 0.10825579],\n",
       "       [ 0.13231263],\n",
       "       [ 0.15636947],\n",
       "       [ 0.18042631],\n",
       "       [ 0.20448315],\n",
       "       [ 0.22853999],\n",
       "       [ 0.25259683],\n",
       "       [ 0.27665367],\n",
       "       [ 0.30071052],\n",
       "       [ 0.32476736],\n",
       "       [ 0.3488242 ],\n",
       "       [ 0.37288104],\n",
       "       [ 0.39693788],\n",
       "       [ 0.42099472],\n",
       "       [ 0.44505156],\n",
       "       [ 0.46910841],\n",
       "       [ 0.49316525],\n",
       "       [ 0.51722209],\n",
       "       [ 0.54127893],\n",
       "       [ 0.56533577],\n",
       "       [ 0.58939261],\n",
       "       [ 0.61344945],\n",
       "       [ 0.63750629],\n",
       "       [ 0.66156314],\n",
       "       [ 0.68561998],\n",
       "       [ 0.70967682],\n",
       "       [ 0.73373366],\n",
       "       [ 0.7577905 ],\n",
       "       [ 0.78184734],\n",
       "       [ 0.80590418],\n",
       "       [ 0.82996102],\n",
       "       [ 0.85401787],\n",
       "       [ 0.87807471],\n",
       "       [ 0.90213155],\n",
       "       [ 0.92618839],\n",
       "       [ 0.95024523],\n",
       "       [ 0.97430207],\n",
       "       [ 0.99835891],\n",
       "       [ 1.02241576],\n",
       "       [ 1.0464726 ],\n",
       "       [ 1.07052944],\n",
       "       [ 1.09458628],\n",
       "       [ 1.11864312],\n",
       "       [ 1.14269996],\n",
       "       [ 1.1667568 ],\n",
       "       [ 1.19081364],\n",
       "       [ 1.21487049],\n",
       "       [ 1.23892733],\n",
       "       [ 1.26298417],\n",
       "       [ 1.28704101],\n",
       "       [ 1.31109785],\n",
       "       [ 1.33515469],\n",
       "       [ 1.35921153],\n",
       "       [ 1.38326837],\n",
       "       [ 1.40732522],\n",
       "       [ 1.43138206],\n",
       "       [ 1.4554389 ],\n",
       "       [ 1.47949574],\n",
       "       [ 1.50355258],\n",
       "       [ 1.52760942],\n",
       "       [ 1.55166626],\n",
       "       [ 1.5757231 ],\n",
       "       [ 1.59977995],\n",
       "       [ 1.62383679],\n",
       "       [ 1.64789363],\n",
       "       [ 1.67195047],\n",
       "       [ 1.69600731],\n",
       "       [ 1.72006415]])"
      ]
     },
     "execution_count": 13,
     "metadata": {},
     "output_type": "execute_result"
    }
   ],
   "source": [
    "x"
   ]
  },
  {
   "cell_type": "code",
   "execution_count": 18,
   "id": "3ca905c6",
   "metadata": {},
   "outputs": [
    {
     "data": {
      "text/plain": [
       "array([[112],\n",
       "       [118],\n",
       "       [132],\n",
       "       [129],\n",
       "       [121],\n",
       "       [135],\n",
       "       [148],\n",
       "       [148],\n",
       "       [136],\n",
       "       [119],\n",
       "       [104],\n",
       "       [118],\n",
       "       [115],\n",
       "       [126],\n",
       "       [141],\n",
       "       [135],\n",
       "       [125],\n",
       "       [149],\n",
       "       [170],\n",
       "       [170],\n",
       "       [158],\n",
       "       [133],\n",
       "       [114],\n",
       "       [140],\n",
       "       [145],\n",
       "       [150],\n",
       "       [178],\n",
       "       [163],\n",
       "       [172],\n",
       "       [178],\n",
       "       [199],\n",
       "       [199],\n",
       "       [184],\n",
       "       [162],\n",
       "       [146],\n",
       "       [166],\n",
       "       [171],\n",
       "       [180],\n",
       "       [193],\n",
       "       [181],\n",
       "       [183],\n",
       "       [218],\n",
       "       [230],\n",
       "       [242],\n",
       "       [209],\n",
       "       [191],\n",
       "       [172],\n",
       "       [194],\n",
       "       [196],\n",
       "       [196],\n",
       "       [236],\n",
       "       [235],\n",
       "       [229],\n",
       "       [243],\n",
       "       [264],\n",
       "       [272],\n",
       "       [237],\n",
       "       [211],\n",
       "       [180],\n",
       "       [201],\n",
       "       [204],\n",
       "       [188],\n",
       "       [235],\n",
       "       [227],\n",
       "       [234],\n",
       "       [264],\n",
       "       [302],\n",
       "       [293],\n",
       "       [259],\n",
       "       [229],\n",
       "       [203],\n",
       "       [229],\n",
       "       [242],\n",
       "       [233],\n",
       "       [267],\n",
       "       [269],\n",
       "       [270],\n",
       "       [315],\n",
       "       [364],\n",
       "       [347],\n",
       "       [312],\n",
       "       [274],\n",
       "       [237],\n",
       "       [278],\n",
       "       [284],\n",
       "       [277],\n",
       "       [317],\n",
       "       [313],\n",
       "       [318],\n",
       "       [374],\n",
       "       [413],\n",
       "       [405],\n",
       "       [355],\n",
       "       [306],\n",
       "       [271],\n",
       "       [306],\n",
       "       [315],\n",
       "       [301],\n",
       "       [356],\n",
       "       [348],\n",
       "       [355],\n",
       "       [422],\n",
       "       [465],\n",
       "       [467],\n",
       "       [404],\n",
       "       [347],\n",
       "       [305],\n",
       "       [336],\n",
       "       [340],\n",
       "       [318],\n",
       "       [362],\n",
       "       [348],\n",
       "       [363],\n",
       "       [435],\n",
       "       [491],\n",
       "       [505],\n",
       "       [404],\n",
       "       [359],\n",
       "       [310],\n",
       "       [337],\n",
       "       [360],\n",
       "       [342],\n",
       "       [406],\n",
       "       [396],\n",
       "       [420],\n",
       "       [472],\n",
       "       [548],\n",
       "       [559],\n",
       "       [463],\n",
       "       [407],\n",
       "       [362],\n",
       "       [405],\n",
       "       [417],\n",
       "       [391],\n",
       "       [419],\n",
       "       [461],\n",
       "       [472],\n",
       "       [535],\n",
       "       [622],\n",
       "       [606],\n",
       "       [508],\n",
       "       [461],\n",
       "       [390],\n",
       "       [432]], dtype=int64)"
      ]
     },
     "execution_count": 18,
     "metadata": {},
     "output_type": "execute_result"
    }
   ],
   "source": [
    "y"
   ]
  },
  {
   "cell_type": "markdown",
   "id": "81b43b00",
   "metadata": {},
   "source": [
    "#### splitting into training and testing data"
   ]
  },
  {
   "cell_type": "code",
   "execution_count": 16,
   "id": "339da83e",
   "metadata": {},
   "outputs": [],
   "source": [
    "x_train,x_test,y_train,y_test=train_test_split(x,y,test_size=0.2,random_state=0)"
   ]
  },
  {
   "cell_type": "markdown",
   "id": "14efd669",
   "metadata": {},
   "source": [
    "#### model building"
   ]
  },
  {
   "cell_type": "code",
   "execution_count": 17,
   "id": "4b061d71",
   "metadata": {},
   "outputs": [],
   "source": [
    "model=LinearRegression()"
   ]
  },
  {
   "cell_type": "markdown",
   "id": "7259d9fb",
   "metadata": {},
   "source": [
    "#### fitting the model"
   ]
  },
  {
   "cell_type": "code",
   "execution_count": 19,
   "id": "dbd3d1ea",
   "metadata": {},
   "outputs": [
    {
     "data": {
      "text/plain": [
       "LinearRegression()"
      ]
     },
     "execution_count": 19,
     "metadata": {},
     "output_type": "execute_result"
    }
   ],
   "source": [
    "model.fit(x_train,y_train)"
   ]
  },
  {
   "cell_type": "markdown",
   "id": "82127dd6",
   "metadata": {},
   "source": [
    "#### coefficient"
   ]
  },
  {
   "cell_type": "code",
   "execution_count": 20,
   "id": "d43a487c",
   "metadata": {},
   "outputs": [
    {
     "data": {
      "text/plain": [
       "array([[106.64683996]])"
      ]
     },
     "execution_count": 20,
     "metadata": {},
     "output_type": "execute_result"
    }
   ],
   "source": [
    "model.coef_"
   ]
  },
  {
   "cell_type": "markdown",
   "id": "d097f1ce",
   "metadata": {},
   "source": [
    "#### intercept"
   ]
  },
  {
   "cell_type": "code",
   "execution_count": 21,
   "id": "810c0d22",
   "metadata": {},
   "outputs": [
    {
     "data": {
      "text/plain": [
       "array([277.27780117])"
      ]
     },
     "execution_count": 21,
     "metadata": {},
     "output_type": "execute_result"
    }
   ],
   "source": [
    "model.intercept_"
   ]
  },
  {
   "cell_type": "markdown",
   "id": "c3d2e8fe",
   "metadata": {},
   "source": [
    "### training accuracy"
   ]
  },
  {
   "cell_type": "code",
   "execution_count": 22,
   "id": "0299ea4b",
   "metadata": {},
   "outputs": [
    {
     "data": {
      "text/plain": [
       "84.9199944225992"
      ]
     },
     "execution_count": 22,
     "metadata": {},
     "output_type": "execute_result"
    }
   ],
   "source": [
    "training_score=model.score(x_train,y_train)*100\n",
    "training_score"
   ]
  },
  {
   "cell_type": "markdown",
   "id": "5a94d08e",
   "metadata": {},
   "source": [
    "### testing accuracy"
   ]
  },
  {
   "cell_type": "code",
   "execution_count": 23,
   "id": "8f0ecfa0",
   "metadata": {},
   "outputs": [
    {
     "data": {
      "text/plain": [
       "85.78393760119663"
      ]
     },
     "execution_count": 23,
     "metadata": {},
     "output_type": "execute_result"
    }
   ],
   "source": [
    "testing_score=model.score(x_test,y_test)*100\n",
    "testing_score"
   ]
  },
  {
   "cell_type": "markdown",
   "id": "d1f01804",
   "metadata": {},
   "source": [
    "### R2 score"
   ]
  },
  {
   "cell_type": "code",
   "execution_count": 24,
   "id": "2ee4e8d8",
   "metadata": {},
   "outputs": [
    {
     "data": {
      "text/plain": [
       "85.78393760119663"
      ]
     },
     "execution_count": 24,
     "metadata": {},
     "output_type": "execute_result"
    }
   ],
   "source": [
    "R2_score=r2_score(y_test,model.predict(x_test))*100\n",
    "R2_score"
   ]
  },
  {
   "cell_type": "markdown",
   "id": "728ede23",
   "metadata": {},
   "source": [
    "### mean absolute error"
   ]
  },
  {
   "cell_type": "code",
   "execution_count": 25,
   "id": "ade0444b",
   "metadata": {},
   "outputs": [
    {
     "data": {
      "text/plain": [
       "37.5291766044347"
      ]
     },
     "execution_count": 25,
     "metadata": {},
     "output_type": "execute_result"
    }
   ],
   "source": [
    "mae=mean_absolute_error(y_test,model.predict(x_test))\n",
    "mae"
   ]
  },
  {
   "cell_type": "markdown",
   "id": "9193d915",
   "metadata": {},
   "source": [
    "### mean squared error"
   ]
  },
  {
   "cell_type": "code",
   "execution_count": 26,
   "id": "9c4e205a",
   "metadata": {},
   "outputs": [
    {
     "data": {
      "text/plain": [
       "2558.8192217657975"
      ]
     },
     "execution_count": 26,
     "metadata": {},
     "output_type": "execute_result"
    }
   ],
   "source": [
    "mse=mean_squared_error(y_test,model.predict(x_test))\n",
    "mse"
   ]
  },
  {
   "cell_type": "markdown",
   "id": "005dbee5",
   "metadata": {},
   "source": [
    "### predicting the values"
   ]
  },
  {
   "cell_type": "code",
   "execution_count": 27,
   "id": "3f365e96",
   "metadata": {},
   "outputs": [],
   "source": [
    "y_pred=model.predict(x)"
   ]
  },
  {
   "cell_type": "code",
   "execution_count": 28,
   "id": "56736a07",
   "metadata": {},
   "outputs": [
    {
     "data": {
      "text/plain": [
       "array([[ 93.83839475],\n",
       "       [ 96.40398085],\n",
       "       [ 98.96956696],\n",
       "       [101.53515306],\n",
       "       [104.10073917],\n",
       "       [106.66632527],\n",
       "       [109.23191137],\n",
       "       [111.79749748],\n",
       "       [114.36308358],\n",
       "       [116.92866968],\n",
       "       [119.49425579],\n",
       "       [122.05984189],\n",
       "       [124.625428  ],\n",
       "       [127.1910141 ],\n",
       "       [129.7566002 ],\n",
       "       [132.32218631],\n",
       "       [134.88777241],\n",
       "       [137.45335851],\n",
       "       [140.01894462],\n",
       "       [142.58453072],\n",
       "       [145.15011683],\n",
       "       [147.71570293],\n",
       "       [150.28128903],\n",
       "       [152.84687514],\n",
       "       [155.41246124],\n",
       "       [157.97804734],\n",
       "       [160.54363345],\n",
       "       [163.10921955],\n",
       "       [165.67480566],\n",
       "       [168.24039176],\n",
       "       [170.80597786],\n",
       "       [173.37156397],\n",
       "       [175.93715007],\n",
       "       [178.50273617],\n",
       "       [181.06832228],\n",
       "       [183.63390838],\n",
       "       [186.19949449],\n",
       "       [188.76508059],\n",
       "       [191.33066669],\n",
       "       [193.8962528 ],\n",
       "       [196.4618389 ],\n",
       "       [199.027425  ],\n",
       "       [201.59301111],\n",
       "       [204.15859721],\n",
       "       [206.72418332],\n",
       "       [209.28976942],\n",
       "       [211.85535552],\n",
       "       [214.42094163],\n",
       "       [216.98652773],\n",
       "       [219.55211383],\n",
       "       [222.11769994],\n",
       "       [224.68328604],\n",
       "       [227.24887215],\n",
       "       [229.81445825],\n",
       "       [232.38004435],\n",
       "       [234.94563046],\n",
       "       [237.51121656],\n",
       "       [240.07680266],\n",
       "       [242.64238877],\n",
       "       [245.20797487],\n",
       "       [247.77356098],\n",
       "       [250.33914708],\n",
       "       [252.90473318],\n",
       "       [255.47031929],\n",
       "       [258.03590539],\n",
       "       [260.6014915 ],\n",
       "       [263.1670776 ],\n",
       "       [265.7326637 ],\n",
       "       [268.29824981],\n",
       "       [270.86383591],\n",
       "       [273.42942201],\n",
       "       [275.99500812],\n",
       "       [278.56059422],\n",
       "       [281.12618033],\n",
       "       [283.69176643],\n",
       "       [286.25735253],\n",
       "       [288.82293864],\n",
       "       [291.38852474],\n",
       "       [293.95411084],\n",
       "       [296.51969695],\n",
       "       [299.08528305],\n",
       "       [301.65086915],\n",
       "       [304.21645526],\n",
       "       [306.78204136],\n",
       "       [309.34762747],\n",
       "       [311.91321357],\n",
       "       [314.47879967],\n",
       "       [317.04438578],\n",
       "       [319.60997188],\n",
       "       [322.17555799],\n",
       "       [324.74114409],\n",
       "       [327.30673019],\n",
       "       [329.8723163 ],\n",
       "       [332.4379024 ],\n",
       "       [335.0034885 ],\n",
       "       [337.56907461],\n",
       "       [340.13466071],\n",
       "       [342.70024682],\n",
       "       [345.26583292],\n",
       "       [347.83141902],\n",
       "       [350.39700513],\n",
       "       [352.96259123],\n",
       "       [355.52817733],\n",
       "       [358.09376344],\n",
       "       [360.65934954],\n",
       "       [363.22493565],\n",
       "       [365.79052175],\n",
       "       [368.35610785],\n",
       "       [370.92169396],\n",
       "       [373.48728006],\n",
       "       [376.05286616],\n",
       "       [378.61845227],\n",
       "       [381.18403837],\n",
       "       [383.74962448],\n",
       "       [386.31521058],\n",
       "       [388.88079668],\n",
       "       [391.44638279],\n",
       "       [394.01196889],\n",
       "       [396.57755499],\n",
       "       [399.1431411 ],\n",
       "       [401.7087272 ],\n",
       "       [404.27431331],\n",
       "       [406.83989941],\n",
       "       [409.40548551],\n",
       "       [411.97107162],\n",
       "       [414.53665772],\n",
       "       [417.10224382],\n",
       "       [419.66782993],\n",
       "       [422.23341603],\n",
       "       [424.79900214],\n",
       "       [427.36458824],\n",
       "       [429.93017434],\n",
       "       [432.49576045],\n",
       "       [435.06134655],\n",
       "       [437.62693265],\n",
       "       [440.19251876],\n",
       "       [442.75810486],\n",
       "       [445.32369097],\n",
       "       [447.88927707],\n",
       "       [450.45486317],\n",
       "       [453.02044928],\n",
       "       [455.58603538],\n",
       "       [458.15162148],\n",
       "       [460.71720759]])"
      ]
     },
     "execution_count": 28,
     "metadata": {},
     "output_type": "execute_result"
    }
   ],
   "source": [
    "y_pred"
   ]
  },
  {
   "cell_type": "markdown",
   "id": "101db9c3",
   "metadata": {},
   "source": [
    "#### creating a dataframe with actual value and predicted value in order to compare them "
   ]
  },
  {
   "cell_type": "code",
   "execution_count": 29,
   "id": "ef6553d3",
   "metadata": {},
   "outputs": [
    {
     "data": {
      "text/html": [
       "<div>\n",
       "<style scoped>\n",
       "    .dataframe tbody tr th:only-of-type {\n",
       "        vertical-align: middle;\n",
       "    }\n",
       "\n",
       "    .dataframe tbody tr th {\n",
       "        vertical-align: top;\n",
       "    }\n",
       "\n",
       "    .dataframe thead th {\n",
       "        text-align: right;\n",
       "    }\n",
       "</style>\n",
       "<table border=\"1\" class=\"dataframe\">\n",
       "  <thead>\n",
       "    <tr style=\"text-align: right;\">\n",
       "      <th></th>\n",
       "      <th>ACTUAL</th>\n",
       "      <th>PREDICTED</th>\n",
       "    </tr>\n",
       "  </thead>\n",
       "  <tbody>\n",
       "    <tr>\n",
       "      <th>0</th>\n",
       "      <td>112.0</td>\n",
       "      <td>93.838395</td>\n",
       "    </tr>\n",
       "    <tr>\n",
       "      <th>1</th>\n",
       "      <td>118.0</td>\n",
       "      <td>96.403981</td>\n",
       "    </tr>\n",
       "    <tr>\n",
       "      <th>2</th>\n",
       "      <td>132.0</td>\n",
       "      <td>98.969567</td>\n",
       "    </tr>\n",
       "    <tr>\n",
       "      <th>3</th>\n",
       "      <td>129.0</td>\n",
       "      <td>101.535153</td>\n",
       "    </tr>\n",
       "    <tr>\n",
       "      <th>4</th>\n",
       "      <td>121.0</td>\n",
       "      <td>104.100739</td>\n",
       "    </tr>\n",
       "  </tbody>\n",
       "</table>\n",
       "</div>"
      ],
      "text/plain": [
       "   ACTUAL   PREDICTED\n",
       "0   112.0   93.838395\n",
       "1   118.0   96.403981\n",
       "2   132.0   98.969567\n",
       "3   129.0  101.535153\n",
       "4   121.0  104.100739"
      ]
     },
     "execution_count": 29,
     "metadata": {},
     "output_type": "execute_result"
    }
   ],
   "source": [
    "OUTPUT=pd.DataFrame(zip(y,y_pred), columns=('ACTUAL','PREDICTED'),dtype=float)\n",
    "OUTPUT.head()"
   ]
  },
  {
   "cell_type": "markdown",
   "id": "7f39ebc1",
   "metadata": {},
   "source": [
    "### visualising the output"
   ]
  },
  {
   "cell_type": "code",
   "execution_count": 30,
   "id": "80eb68c4",
   "metadata": {},
   "outputs": [
    {
     "data": {
      "image/png": "[encoded data removed]",
      "text/plain": [
       "<Figure size 1200x600 with 1 Axes>"
      ]
     },
     "metadata": {},
     "output_type": "display_data"
    }
   ],
   "source": [
    "plt.figure(figsize=(12,6))\n",
    "plt.title('PREDICTED vs ACTUAL DATA')\n",
    "plt.xticks()\n",
    "sns.scatterplot(data=OUTPUT,x='ACTUAL',y='PREDICTED');"
   ]
  },
  {
   "cell_type": "code",
   "execution_count": 31,
   "id": "de7c12ca",
   "metadata": {},
   "outputs": [
    {
     "data": {
      "image/png": "[encoded data removed]",
      "text/plain": [
       "<Figure size 640x480 with 1 Axes>"
      ]
     },
     "metadata": {},
     "output_type": "display_data"
    }
   ],
   "source": [
    "sns.lineplot(data=OUTPUT,x='ACTUAL',y='PREDICTED');"
   ]
  },
  {
   "cell_type": "code",
   "execution_count": null,
   "id": "e1270d62",
   "metadata": {},
   "outputs": [],
   "source": []
  }
 ],
 "metadata": {
  "kernelspec": {
   "display_name": "Python 3 (ipykernel)",
   "language": "python",
   "name": "python3"
  },
  "language_info": {
   "codemirror_mode": {
    "name": "ipython",
    "version": 3
   },
   "file_extension": ".py",
   "mimetype": "text/x-python",
   "name": "python",
   "nbconvert_exporter": "python",
   "pygments_lexer": "ipython3",
   "version": "3.9.13"
  }
 },
 "nbformat": 4,
 "nbformat_minor": 5
}
