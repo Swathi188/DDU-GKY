{
 "cells": [
  {
   "cell_type": "markdown",
   "id": "1db89d23",
   "metadata": {},
   "source": [
    "#### creating a Data frame\n"
   ]
  },
  {
   "cell_type": "code",
   "execution_count": 5,
   "id": "c0df9093",
   "metadata": {},
   "outputs": [],
   "source": [
    "import pandas as pd\n",
    "import numpy as np\n",
    "import warnings\n",
    "warnings.filterwarnings('ignore')"
   ]
  },
  {
   "cell_type": "code",
   "execution_count": 7,
   "id": "4978f7f1",
   "metadata": {},
   "outputs": [
    {
     "data": {
      "text/html": [
       "<div>\n",
       "<style scoped>\n",
       "    .dataframe tbody tr th:only-of-type {\n",
       "        vertical-align: middle;\n",
       "    }\n",
       "\n",
       "    .dataframe tbody tr th {\n",
       "        vertical-align: top;\n",
       "    }\n",
       "\n",
       "    .dataframe thead th {\n",
       "        text-align: right;\n",
       "    }\n",
       "</style>\n",
       "<table border=\"1\" class=\"dataframe\">\n",
       "  <thead>\n",
       "    <tr style=\"text-align: right;\">\n",
       "      <th></th>\n",
       "      <th>brand</th>\n",
       "      <th>price</th>\n",
       "    </tr>\n",
       "  </thead>\n",
       "  <tbody>\n",
       "    <tr>\n",
       "      <th>0</th>\n",
       "      <td>honda</td>\n",
       "      <td>22000</td>\n",
       "    </tr>\n",
       "    <tr>\n",
       "      <th>1</th>\n",
       "      <td>toyota</td>\n",
       "      <td>25000</td>\n",
       "    </tr>\n",
       "    <tr>\n",
       "      <th>2</th>\n",
       "      <td>audi</td>\n",
       "      <td>27000</td>\n",
       "    </tr>\n",
       "    <tr>\n",
       "      <th>3</th>\n",
       "      <td>ford</td>\n",
       "      <td>35000</td>\n",
       "    </tr>\n",
       "  </tbody>\n",
       "</table>\n",
       "</div>"
      ],
      "text/plain": [
       "    brand  price\n",
       "0   honda  22000\n",
       "1  toyota  25000\n",
       "2    audi  27000\n",
       "3    ford  35000"
      ]
     },
     "execution_count": 7,
     "metadata": {},
     "output_type": "execute_result"
    }
   ],
   "source": [
    "cars={'brand':['honda','toyota','audi','ford'],\n",
    "      'price':[22000,25000,27000,35000]\n",
    "    }\n",
    "df=pd.DataFrame(cars)\n",
    "df.head()"
   ]
  },
  {
   "cell_type": "code",
   "execution_count": 13,
   "id": "eb52dcaf",
   "metadata": {},
   "outputs": [
    {
     "data": {
      "text/html": [
       "<div>\n",
       "<style scoped>\n",
       "    .dataframe tbody tr th:only-of-type {\n",
       "        vertical-align: middle;\n",
       "    }\n",
       "\n",
       "    .dataframe tbody tr th {\n",
       "        vertical-align: top;\n",
       "    }\n",
       "\n",
       "    .dataframe thead th {\n",
       "        text-align: right;\n",
       "    }\n",
       "</style>\n",
       "<table border=\"1\" class=\"dataframe\">\n",
       "  <thead>\n",
       "    <tr style=\"text-align: right;\">\n",
       "      <th></th>\n",
       "      <th>name</th>\n",
       "      <th>python</th>\n",
       "      <th>statistics</th>\n",
       "      <th>total</th>\n",
       "      <th>percentage</th>\n",
       "    </tr>\n",
       "  </thead>\n",
       "  <tbody>\n",
       "    <tr>\n",
       "      <th>0</th>\n",
       "      <td>abhimanyu</td>\n",
       "      <td>24</td>\n",
       "      <td>15</td>\n",
       "      <td>39</td>\n",
       "      <td>86.67</td>\n",
       "    </tr>\n",
       "    <tr>\n",
       "      <th>1</th>\n",
       "      <td>ajith</td>\n",
       "      <td>25</td>\n",
       "      <td>15</td>\n",
       "      <td>40</td>\n",
       "      <td>88.89</td>\n",
       "    </tr>\n",
       "    <tr>\n",
       "      <th>2</th>\n",
       "      <td>akshay</td>\n",
       "      <td>24</td>\n",
       "      <td>18</td>\n",
       "      <td>42</td>\n",
       "      <td>93.33</td>\n",
       "    </tr>\n",
       "    <tr>\n",
       "      <th>3</th>\n",
       "      <td>alen</td>\n",
       "      <td>25</td>\n",
       "      <td>18</td>\n",
       "      <td>43</td>\n",
       "      <td>95.56</td>\n",
       "    </tr>\n",
       "    <tr>\n",
       "      <th>4</th>\n",
       "      <td>anand</td>\n",
       "      <td>25</td>\n",
       "      <td>16</td>\n",
       "      <td>41</td>\n",
       "      <td>91.11</td>\n",
       "    </tr>\n",
       "  </tbody>\n",
       "</table>\n",
       "</div>"
      ],
      "text/plain": [
       "        name  python  statistics  total  percentage\n",
       "0  abhimanyu      24          15     39       86.67\n",
       "1      ajith      25          15     40       88.89\n",
       "2     akshay      24          18     42       93.33\n",
       "3       alen      25          18     43       95.56\n",
       "4      anand      25          16     41       91.11"
      ]
     },
     "execution_count": 13,
     "metadata": {},
     "output_type": "execute_result"
    }
   ],
   "source": [
    "marklist={'name':['abhimanyu','ajith','akshay','alen','anand','ansal','arun','aswin','dhavood','haripriya','indrajith','jishnu','jishnuraj','jopika','keerthi','kiran','lubna','mancy','merlin','safeer','siraj','nandakrishnan','najmi','nida','rahul','ramshad','sanika','sanoy','shammas','smijith','sneha','soorya','swathi','vidya','vishnu'],\n",
    "          'python':[24,25,24,25,25,25,24,24,24,24,25,25,23,24,25,24,24,25,24,24,24,0,25,25,25,25,25,24,24,24,22,24,25,23,24],\n",
    "          'statistics':[15,15,18,18,16,19,15,13,16,17,13,15,15,13,16,20,16,16,16,15,19,0,13,15,16,19,17,15,17,13,13,16,16,17,17],\n",
    "          'total':[39,40,42,43,41,44,39,37,40,41,38,40,38,37,41,44,40,41,40,39,43,0,38,40,41,44,42,39,41,37,35,40,41,40,41],\n",
    "          'percentage':[86.67,88.89,93.33,95.56,91.11,97.78,86.67,82.22,88.89,91.11,84.44,88.89,84.44,82.22,91.11,97.78,88.89,91.11,88.89,86.67,95.56,0,84.44,88.89,91.11,97.78,93.33,86.67,91.11,82.22,77.78,88.89,91.11,88.89,91.11],\n",
    "         }\n",
    "df=pd.DataFrame(marklist)\n",
    "df.head()\n",
    "           "
   ]
  },
  {
   "cell_type": "code",
   "execution_count": 14,
   "id": "aec0be61",
   "metadata": {},
   "outputs": [
    {
     "data": {
      "text/plain": [
       "44"
      ]
     },
     "execution_count": 14,
     "metadata": {},
     "output_type": "execute_result"
    }
   ],
   "source": [
    "df['total'].max()"
   ]
  },
  {
   "cell_type": "code",
   "execution_count": 15,
   "id": "7fa9d090",
   "metadata": {},
   "outputs": [
    {
     "data": {
      "text/plain": [
       "0"
      ]
     },
     "execution_count": 15,
     "metadata": {},
     "output_type": "execute_result"
    }
   ],
   "source": [
    "df['total'].min()"
   ]
  },
  {
   "cell_type": "code",
   "execution_count": 16,
   "id": "a4e1172b",
   "metadata": {},
   "outputs": [
    {
     "data": {
      "text/plain": [
       "25"
      ]
     },
     "execution_count": 16,
     "metadata": {},
     "output_type": "execute_result"
    }
   ],
   "source": [
    "df['python'].max()"
   ]
  },
  {
   "cell_type": "code",
   "execution_count": 17,
   "id": "6425a86d",
   "metadata": {},
   "outputs": [
    {
     "data": {
      "text/plain": [
       "39.02857142857143"
      ]
     },
     "execution_count": 17,
     "metadata": {},
     "output_type": "execute_result"
    }
   ],
   "source": [
    "df['total'].mean()"
   ]
  },
  {
   "cell_type": "code",
   "execution_count": 19,
   "id": "41e34289",
   "metadata": {},
   "outputs": [
    {
     "data": {
      "text/plain": [
       "7.106276075685883"
      ]
     },
     "execution_count": 19,
     "metadata": {},
     "output_type": "execute_result"
    }
   ],
   "source": [
    "df['total'].std()"
   ]
  },
  {
   "cell_type": "code",
   "execution_count": 20,
   "id": "fdf2b760",
   "metadata": {},
   "outputs": [
    {
     "data": {
      "text/plain": [
       "0"
      ]
     },
     "execution_count": 20,
     "metadata": {},
     "output_type": "execute_result"
    }
   ],
   "source": [
    "df['python'].min()"
   ]
  },
  {
   "cell_type": "code",
   "execution_count": 21,
   "id": "b3a6844d",
   "metadata": {},
   "outputs": [
    {
     "data": {
      "text/plain": [
       "23.6"
      ]
     },
     "execution_count": 21,
     "metadata": {},
     "output_type": "execute_result"
    }
   ],
   "source": [
    "df['python'].mean()"
   ]
  },
  {
   "cell_type": "code",
   "execution_count": 23,
   "id": "0bde5968",
   "metadata": {},
   "outputs": [
    {
     "data": {
      "text/html": [
       "<div>\n",
       "<style scoped>\n",
       "    .dataframe tbody tr th:only-of-type {\n",
       "        vertical-align: middle;\n",
       "    }\n",
       "\n",
       "    .dataframe tbody tr th {\n",
       "        vertical-align: top;\n",
       "    }\n",
       "\n",
       "    .dataframe thead th {\n",
       "        text-align: right;\n",
       "    }\n",
       "</style>\n",
       "<table border=\"1\" class=\"dataframe\">\n",
       "  <thead>\n",
       "    <tr style=\"text-align: right;\">\n",
       "      <th></th>\n",
       "      <th>name</th>\n",
       "      <th>python</th>\n",
       "      <th>statistics</th>\n",
       "      <th>total</th>\n",
       "      <th>percentage</th>\n",
       "    </tr>\n",
       "  </thead>\n",
       "  <tbody>\n",
       "    <tr>\n",
       "      <th>21</th>\n",
       "      <td>nandakrishnan</td>\n",
       "      <td>0</td>\n",
       "      <td>0</td>\n",
       "      <td>0</td>\n",
       "      <td>0.0</td>\n",
       "    </tr>\n",
       "  </tbody>\n",
       "</table>\n",
       "</div>"
      ],
      "text/plain": [
       "             name  python  statistics  total  percentage\n",
       "21  nandakrishnan       0           0      0         0.0"
      ]
     },
     "execution_count": 23,
     "metadata": {},
     "output_type": "execute_result"
    }
   ],
   "source": [
    "df[df['python']<15]"
   ]
  },
  {
   "cell_type": "code",
   "execution_count": 27,
   "id": "10f8f263",
   "metadata": {},
   "outputs": [
    {
     "data": {
      "text/html": [
       "<div>\n",
       "<style scoped>\n",
       "    .dataframe tbody tr th:only-of-type {\n",
       "        vertical-align: middle;\n",
       "    }\n",
       "\n",
       "    .dataframe tbody tr th {\n",
       "        vertical-align: top;\n",
       "    }\n",
       "\n",
       "    .dataframe thead th {\n",
       "        text-align: right;\n",
       "    }\n",
       "</style>\n",
       "<table border=\"1\" class=\"dataframe\">\n",
       "  <thead>\n",
       "    <tr style=\"text-align: right;\">\n",
       "      <th></th>\n",
       "      <th>name</th>\n",
       "      <th>statistics</th>\n",
       "      <th>total</th>\n",
       "      <th>percentage</th>\n",
       "    </tr>\n",
       "    <tr>\n",
       "      <th>python</th>\n",
       "      <th></th>\n",
       "      <th></th>\n",
       "      <th></th>\n",
       "      <th></th>\n",
       "    </tr>\n",
       "  </thead>\n",
       "  <tbody>\n",
       "    <tr>\n",
       "      <th>24</th>\n",
       "      <td>abhimanyu</td>\n",
       "      <td>15</td>\n",
       "      <td>39</td>\n",
       "      <td>86.67</td>\n",
       "    </tr>\n",
       "    <tr>\n",
       "      <th>25</th>\n",
       "      <td>ajith</td>\n",
       "      <td>15</td>\n",
       "      <td>40</td>\n",
       "      <td>88.89</td>\n",
       "    </tr>\n",
       "    <tr>\n",
       "      <th>24</th>\n",
       "      <td>akshay</td>\n",
       "      <td>18</td>\n",
       "      <td>42</td>\n",
       "      <td>93.33</td>\n",
       "    </tr>\n",
       "    <tr>\n",
       "      <th>25</th>\n",
       "      <td>alen</td>\n",
       "      <td>18</td>\n",
       "      <td>43</td>\n",
       "      <td>95.56</td>\n",
       "    </tr>\n",
       "    <tr>\n",
       "      <th>25</th>\n",
       "      <td>anand</td>\n",
       "      <td>16</td>\n",
       "      <td>41</td>\n",
       "      <td>91.11</td>\n",
       "    </tr>\n",
       "    <tr>\n",
       "      <th>25</th>\n",
       "      <td>ansal</td>\n",
       "      <td>19</td>\n",
       "      <td>44</td>\n",
       "      <td>97.78</td>\n",
       "    </tr>\n",
       "    <tr>\n",
       "      <th>24</th>\n",
       "      <td>arun</td>\n",
       "      <td>15</td>\n",
       "      <td>39</td>\n",
       "      <td>86.67</td>\n",
       "    </tr>\n",
       "    <tr>\n",
       "      <th>24</th>\n",
       "      <td>aswin</td>\n",
       "      <td>13</td>\n",
       "      <td>37</td>\n",
       "      <td>82.22</td>\n",
       "    </tr>\n",
       "    <tr>\n",
       "      <th>24</th>\n",
       "      <td>dhavood</td>\n",
       "      <td>16</td>\n",
       "      <td>40</td>\n",
       "      <td>88.89</td>\n",
       "    </tr>\n",
       "    <tr>\n",
       "      <th>24</th>\n",
       "      <td>haripriya</td>\n",
       "      <td>17</td>\n",
       "      <td>41</td>\n",
       "      <td>91.11</td>\n",
       "    </tr>\n",
       "    <tr>\n",
       "      <th>25</th>\n",
       "      <td>indrajith</td>\n",
       "      <td>13</td>\n",
       "      <td>38</td>\n",
       "      <td>84.44</td>\n",
       "    </tr>\n",
       "    <tr>\n",
       "      <th>25</th>\n",
       "      <td>jishnu</td>\n",
       "      <td>15</td>\n",
       "      <td>40</td>\n",
       "      <td>88.89</td>\n",
       "    </tr>\n",
       "    <tr>\n",
       "      <th>23</th>\n",
       "      <td>jishnuraj</td>\n",
       "      <td>15</td>\n",
       "      <td>38</td>\n",
       "      <td>84.44</td>\n",
       "    </tr>\n",
       "    <tr>\n",
       "      <th>24</th>\n",
       "      <td>jopika</td>\n",
       "      <td>13</td>\n",
       "      <td>37</td>\n",
       "      <td>82.22</td>\n",
       "    </tr>\n",
       "    <tr>\n",
       "      <th>25</th>\n",
       "      <td>keerthi</td>\n",
       "      <td>16</td>\n",
       "      <td>41</td>\n",
       "      <td>91.11</td>\n",
       "    </tr>\n",
       "    <tr>\n",
       "      <th>24</th>\n",
       "      <td>kiran</td>\n",
       "      <td>20</td>\n",
       "      <td>44</td>\n",
       "      <td>97.78</td>\n",
       "    </tr>\n",
       "    <tr>\n",
       "      <th>24</th>\n",
       "      <td>lubna</td>\n",
       "      <td>16</td>\n",
       "      <td>40</td>\n",
       "      <td>88.89</td>\n",
       "    </tr>\n",
       "    <tr>\n",
       "      <th>25</th>\n",
       "      <td>mancy</td>\n",
       "      <td>16</td>\n",
       "      <td>41</td>\n",
       "      <td>91.11</td>\n",
       "    </tr>\n",
       "    <tr>\n",
       "      <th>24</th>\n",
       "      <td>merlin</td>\n",
       "      <td>16</td>\n",
       "      <td>40</td>\n",
       "      <td>88.89</td>\n",
       "    </tr>\n",
       "    <tr>\n",
       "      <th>24</th>\n",
       "      <td>safeer</td>\n",
       "      <td>15</td>\n",
       "      <td>39</td>\n",
       "      <td>86.67</td>\n",
       "    </tr>\n",
       "    <tr>\n",
       "      <th>24</th>\n",
       "      <td>siraj</td>\n",
       "      <td>19</td>\n",
       "      <td>43</td>\n",
       "      <td>95.56</td>\n",
       "    </tr>\n",
       "    <tr>\n",
       "      <th>0</th>\n",
       "      <td>nandakrishnan</td>\n",
       "      <td>0</td>\n",
       "      <td>0</td>\n",
       "      <td>0.00</td>\n",
       "    </tr>\n",
       "    <tr>\n",
       "      <th>25</th>\n",
       "      <td>najmi</td>\n",
       "      <td>13</td>\n",
       "      <td>38</td>\n",
       "      <td>84.44</td>\n",
       "    </tr>\n",
       "    <tr>\n",
       "      <th>25</th>\n",
       "      <td>nida</td>\n",
       "      <td>15</td>\n",
       "      <td>40</td>\n",
       "      <td>88.89</td>\n",
       "    </tr>\n",
       "    <tr>\n",
       "      <th>25</th>\n",
       "      <td>rahul</td>\n",
       "      <td>16</td>\n",
       "      <td>41</td>\n",
       "      <td>91.11</td>\n",
       "    </tr>\n",
       "    <tr>\n",
       "      <th>25</th>\n",
       "      <td>ramshad</td>\n",
       "      <td>19</td>\n",
       "      <td>44</td>\n",
       "      <td>97.78</td>\n",
       "    </tr>\n",
       "    <tr>\n",
       "      <th>25</th>\n",
       "      <td>sanika</td>\n",
       "      <td>17</td>\n",
       "      <td>42</td>\n",
       "      <td>93.33</td>\n",
       "    </tr>\n",
       "    <tr>\n",
       "      <th>24</th>\n",
       "      <td>sanoy</td>\n",
       "      <td>15</td>\n",
       "      <td>39</td>\n",
       "      <td>86.67</td>\n",
       "    </tr>\n",
       "    <tr>\n",
       "      <th>24</th>\n",
       "      <td>shammas</td>\n",
       "      <td>17</td>\n",
       "      <td>41</td>\n",
       "      <td>91.11</td>\n",
       "    </tr>\n",
       "    <tr>\n",
       "      <th>24</th>\n",
       "      <td>smijith</td>\n",
       "      <td>13</td>\n",
       "      <td>37</td>\n",
       "      <td>82.22</td>\n",
       "    </tr>\n",
       "    <tr>\n",
       "      <th>22</th>\n",
       "      <td>sneha</td>\n",
       "      <td>13</td>\n",
       "      <td>35</td>\n",
       "      <td>77.78</td>\n",
       "    </tr>\n",
       "    <tr>\n",
       "      <th>24</th>\n",
       "      <td>soorya</td>\n",
       "      <td>16</td>\n",
       "      <td>40</td>\n",
       "      <td>88.89</td>\n",
       "    </tr>\n",
       "    <tr>\n",
       "      <th>25</th>\n",
       "      <td>swathi</td>\n",
       "      <td>16</td>\n",
       "      <td>41</td>\n",
       "      <td>91.11</td>\n",
       "    </tr>\n",
       "    <tr>\n",
       "      <th>23</th>\n",
       "      <td>vidya</td>\n",
       "      <td>17</td>\n",
       "      <td>40</td>\n",
       "      <td>88.89</td>\n",
       "    </tr>\n",
       "    <tr>\n",
       "      <th>24</th>\n",
       "      <td>vishnu</td>\n",
       "      <td>17</td>\n",
       "      <td>41</td>\n",
       "      <td>91.11</td>\n",
       "    </tr>\n",
       "  </tbody>\n",
       "</table>\n",
       "</div>"
      ],
      "text/plain": [
       "                 name  statistics  total  percentage\n",
       "python                                              \n",
       "24          abhimanyu          15     39       86.67\n",
       "25              ajith          15     40       88.89\n",
       "24             akshay          18     42       93.33\n",
       "25               alen          18     43       95.56\n",
       "25              anand          16     41       91.11\n",
       "25              ansal          19     44       97.78\n",
       "24               arun          15     39       86.67\n",
       "24              aswin          13     37       82.22\n",
       "24            dhavood          16     40       88.89\n",
       "24          haripriya          17     41       91.11\n",
       "25          indrajith          13     38       84.44\n",
       "25             jishnu          15     40       88.89\n",
       "23          jishnuraj          15     38       84.44\n",
       "24             jopika          13     37       82.22\n",
       "25            keerthi          16     41       91.11\n",
       "24              kiran          20     44       97.78\n",
       "24              lubna          16     40       88.89\n",
       "25              mancy          16     41       91.11\n",
       "24             merlin          16     40       88.89\n",
       "24             safeer          15     39       86.67\n",
       "24              siraj          19     43       95.56\n",
       "0       nandakrishnan           0      0        0.00\n",
       "25              najmi          13     38       84.44\n",
       "25               nida          15     40       88.89\n",
       "25              rahul          16     41       91.11\n",
       "25            ramshad          19     44       97.78\n",
       "25             sanika          17     42       93.33\n",
       "24              sanoy          15     39       86.67\n",
       "24            shammas          17     41       91.11\n",
       "24            smijith          13     37       82.22\n",
       "22              sneha          13     35       77.78\n",
       "24             soorya          16     40       88.89\n",
       "25             swathi          16     41       91.11\n",
       "23              vidya          17     40       88.89\n",
       "24             vishnu          17     41       91.11"
      ]
     },
     "execution_count": 27,
     "metadata": {},
     "output_type": "execute_result"
    }
   ],
   "source": [
    "df.set_index('python')\n"
   ]
  },
  {
   "cell_type": "code",
   "execution_count": 31,
   "id": "510e1836",
   "metadata": {},
   "outputs": [
    {
     "data": {
      "text/plain": [
       "name          shammas\n",
       "python             24\n",
       "statistics         17\n",
       "total              41\n",
       "percentage      91.11\n",
       "Name: 28, dtype: object"
      ]
     },
     "execution_count": 31,
     "metadata": {},
     "output_type": "execute_result"
    }
   ],
   "source": [
    "df.iloc[28]"
   ]
  },
  {
   "cell_type": "code",
   "execution_count": 34,
   "id": "28ff29b4",
   "metadata": {},
   "outputs": [
    {
     "data": {
      "text/html": [
       "<div>\n",
       "<style scoped>\n",
       "    .dataframe tbody tr th:only-of-type {\n",
       "        vertical-align: middle;\n",
       "    }\n",
       "\n",
       "    .dataframe tbody tr th {\n",
       "        vertical-align: top;\n",
       "    }\n",
       "\n",
       "    .dataframe thead th {\n",
       "        text-align: right;\n",
       "    }\n",
       "</style>\n",
       "<table border=\"1\" class=\"dataframe\">\n",
       "  <thead>\n",
       "    <tr style=\"text-align: right;\">\n",
       "      <th></th>\n",
       "      <th>name</th>\n",
       "      <th>python</th>\n",
       "      <th>statistics</th>\n",
       "      <th>total</th>\n",
       "      <th>percentage</th>\n",
       "    </tr>\n",
       "  </thead>\n",
       "  <tbody>\n",
       "    <tr>\n",
       "      <th>5</th>\n",
       "      <td>ansal</td>\n",
       "      <td>25</td>\n",
       "      <td>19</td>\n",
       "      <td>44</td>\n",
       "      <td>97.78</td>\n",
       "    </tr>\n",
       "    <tr>\n",
       "      <th>15</th>\n",
       "      <td>kiran</td>\n",
       "      <td>24</td>\n",
       "      <td>20</td>\n",
       "      <td>44</td>\n",
       "      <td>97.78</td>\n",
       "    </tr>\n",
       "    <tr>\n",
       "      <th>25</th>\n",
       "      <td>ramshad</td>\n",
       "      <td>25</td>\n",
       "      <td>19</td>\n",
       "      <td>44</td>\n",
       "      <td>97.78</td>\n",
       "    </tr>\n",
       "  </tbody>\n",
       "</table>\n",
       "</div>"
      ],
      "text/plain": [
       "       name  python  statistics  total  percentage\n",
       "5     ansal      25          19     44       97.78\n",
       "15    kiran      24          20     44       97.78\n",
       "25  ramshad      25          19     44       97.78"
      ]
     },
     "execution_count": 34,
     "metadata": {},
     "output_type": "execute_result"
    }
   ],
   "source": [
    "df[df['percentage']==df['percentage'].max()]"
   ]
  },
  {
   "cell_type": "markdown",
   "id": "08717eed",
   "metadata": {},
   "source": [
    "# indexing"
   ]
  },
  {
   "cell_type": "code",
   "execution_count": 35,
   "id": "bd6b5033",
   "metadata": {},
   "outputs": [
    {
     "data": {
      "text/html": [
       "<div>\n",
       "<style scoped>\n",
       "    .dataframe tbody tr th:only-of-type {\n",
       "        vertical-align: middle;\n",
       "    }\n",
       "\n",
       "    .dataframe tbody tr th {\n",
       "        vertical-align: top;\n",
       "    }\n",
       "\n",
       "    .dataframe thead th {\n",
       "        text-align: right;\n",
       "    }\n",
       "</style>\n",
       "<table border=\"1\" class=\"dataframe\">\n",
       "  <thead>\n",
       "    <tr style=\"text-align: right;\">\n",
       "      <th></th>\n",
       "      <th>python</th>\n",
       "      <th>statistics</th>\n",
       "      <th>total</th>\n",
       "      <th>percentage</th>\n",
       "    </tr>\n",
       "    <tr>\n",
       "      <th>name</th>\n",
       "      <th></th>\n",
       "      <th></th>\n",
       "      <th></th>\n",
       "      <th></th>\n",
       "    </tr>\n",
       "  </thead>\n",
       "  <tbody>\n",
       "    <tr>\n",
       "      <th>abhimanyu</th>\n",
       "      <td>24</td>\n",
       "      <td>15</td>\n",
       "      <td>39</td>\n",
       "      <td>86.67</td>\n",
       "    </tr>\n",
       "    <tr>\n",
       "      <th>ajith</th>\n",
       "      <td>25</td>\n",
       "      <td>15</td>\n",
       "      <td>40</td>\n",
       "      <td>88.89</td>\n",
       "    </tr>\n",
       "    <tr>\n",
       "      <th>akshay</th>\n",
       "      <td>24</td>\n",
       "      <td>18</td>\n",
       "      <td>42</td>\n",
       "      <td>93.33</td>\n",
       "    </tr>\n",
       "    <tr>\n",
       "      <th>alen</th>\n",
       "      <td>25</td>\n",
       "      <td>18</td>\n",
       "      <td>43</td>\n",
       "      <td>95.56</td>\n",
       "    </tr>\n",
       "    <tr>\n",
       "      <th>anand</th>\n",
       "      <td>25</td>\n",
       "      <td>16</td>\n",
       "      <td>41</td>\n",
       "      <td>91.11</td>\n",
       "    </tr>\n",
       "  </tbody>\n",
       "</table>\n",
       "</div>"
      ],
      "text/plain": [
       "           python  statistics  total  percentage\n",
       "name                                            \n",
       "abhimanyu      24          15     39       86.67\n",
       "ajith          25          15     40       88.89\n",
       "akshay         24          18     42       93.33\n",
       "alen           25          18     43       95.56\n",
       "anand          25          16     41       91.11"
      ]
     },
     "execution_count": 35,
     "metadata": {},
     "output_type": "execute_result"
    }
   ],
   "source": [
    "df.set_index('name',inplace=True)\n",
    "df.head()"
   ]
  },
  {
   "cell_type": "code",
   "execution_count": 36,
   "id": "9c5e2aca",
   "metadata": {},
   "outputs": [
    {
     "data": {
      "text/plain": [
       "python        25.00\n",
       "statistics    16.00\n",
       "total         41.00\n",
       "percentage    91.11\n",
       "Name: swathi, dtype: float64"
      ]
     },
     "execution_count": 36,
     "metadata": {},
     "output_type": "execute_result"
    }
   ],
   "source": [
    "df.loc['swathi']"
   ]
  },
  {
   "cell_type": "code",
   "execution_count": 37,
   "id": "0e34483b",
   "metadata": {},
   "outputs": [
    {
     "data": {
      "text/plain": [
       "python        24.00\n",
       "statistics    19.00\n",
       "total         43.00\n",
       "percentage    95.56\n",
       "Name: siraj, dtype: float64"
      ]
     },
     "execution_count": 37,
     "metadata": {},
     "output_type": "execute_result"
    }
   ],
   "source": [
    "df.iloc[20]"
   ]
  },
  {
   "cell_type": "code",
   "execution_count": 3,
   "id": "4f7c953c",
   "metadata": {},
   "outputs": [
    {
     "name": "stdout",
     "output_type": "stream",
     "text": [
      "   calories  duration\n",
      "0       420        50\n",
      "1       380        40\n",
      "2       390        45\n"
     ]
    }
   ],
   "source": [
    "import pandas as pd\n",
    "\n",
    "data = {\n",
    "  \"calories\": [420, 380, 390],\n",
    "  \"duration\": [50, 40, 45]\n",
    "}\n",
    "\n",
    "#load data into a DataFrame object:\n",
    "df = pd.DataFrame(data)\n",
    "\n",
    "print(df) "
   ]
  },
  {
   "cell_type": "code",
   "execution_count": 4,
   "id": "70c06036",
   "metadata": {},
   "outputs": [
    {
     "name": "stdout",
     "output_type": "stream",
     "text": [
      "   calories  duration\n",
      "0       420        50\n",
      "1       380        40\n",
      "2       650        45\n"
     ]
    }
   ],
   "source": [
    "import pandas as pd\n",
    "data = {\n",
    "    \"calories\":[420,380,650],\n",
    "    \"duration\":[50,40,45]\n",
    "}\n",
    "df = pd.DataFrame(data)\n",
    "print(df)"
   ]
  },
  {
   "cell_type": "code",
   "execution_count": 6,
   "id": "fec56a52",
   "metadata": {},
   "outputs": [
    {
     "name": "stdout",
     "output_type": "stream",
     "text": [
      "   calories  duration\n",
      "0       420        50\n",
      "2       650        45\n"
     ]
    }
   ],
   "source": [
    "print(df.loc[[0, 2]])"
   ]
  },
  {
   "cell_type": "code",
   "execution_count": 7,
   "id": "1ad6ecc2",
   "metadata": {},
   "outputs": [
    {
     "name": "stdout",
     "output_type": "stream",
     "text": [
      "      calories  duration\n",
      "day1       420        50\n",
      "day2       380        40\n",
      "day3       650        45\n"
     ]
    }
   ],
   "source": [
    "df = pd.DataFrame(data, index = [\"day1\", \"day2\", \"day3\"])\n",
    "\n",
    "print(df) "
   ]
  },
  {
   "cell_type": "code",
   "execution_count": null,
   "id": "b6e3740d",
   "metadata": {},
   "outputs": [],
   "source": []
  }
 ],
 "metadata": {
  "kernelspec": {
   "display_name": "Python 3 (ipykernel)",
   "language": "python",
   "name": "python3"
  },
  "language_info": {
   "codemirror_mode": {
    "name": "ipython",
    "version": 3
   },
   "file_extension": ".py",
   "mimetype": "text/x-python",
   "name": "python",
   "nbconvert_exporter": "python",
   "pygments_lexer": "ipython3",
   "version": "3.9.13"
  }
 },
 "nbformat": 4,
 "nbformat_minor": 5
}
