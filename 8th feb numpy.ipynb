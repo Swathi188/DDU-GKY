{
 "cells": [
  {
   "cell_type": "markdown",
   "id": "4ff97700",
   "metadata": {},
   "source": [
    "# NumPy"
   ]
  },
  {
   "cell_type": "code",
   "execution_count": 2,
   "id": "858fb5b5",
   "metadata": {},
   "outputs": [],
   "source": [
    "import numpy as np\n",
    "import warnings\n",
    "warnings.filterwarnings('ignore')"
   ]
  },
  {
   "cell_type": "markdown",
   "id": "7ec4b97f",
   "metadata": {},
   "source": [
    "### 1D array"
   ]
  },
  {
   "cell_type": "code",
   "execution_count": 2,
   "id": "1d98930e",
   "metadata": {},
   "outputs": [],
   "source": [
    "a=np.array([10,20,30,40,50,60])"
   ]
  },
  {
   "cell_type": "code",
   "execution_count": 3,
   "id": "faf0bffc",
   "metadata": {},
   "outputs": [
    {
     "data": {
      "text/plain": [
       "dtype('int32')"
      ]
     },
     "execution_count": 3,
     "metadata": {},
     "output_type": "execute_result"
    }
   ],
   "source": [
    "a.dtype"
   ]
  },
  {
   "cell_type": "code",
   "execution_count": 4,
   "id": "c1ed7f0c",
   "metadata": {},
   "outputs": [
    {
     "data": {
      "text/plain": [
       "(6,)"
      ]
     },
     "execution_count": 4,
     "metadata": {},
     "output_type": "execute_result"
    }
   ],
   "source": [
    "a.shape"
   ]
  },
  {
   "cell_type": "code",
   "execution_count": 5,
   "id": "feb3637c",
   "metadata": {},
   "outputs": [
    {
     "data": {
      "text/plain": [
       "1"
      ]
     },
     "execution_count": 5,
     "metadata": {},
     "output_type": "execute_result"
    }
   ],
   "source": [
    "a.ndim"
   ]
  },
  {
   "cell_type": "code",
   "execution_count": 6,
   "id": "c0c38766",
   "metadata": {},
   "outputs": [
    {
     "data": {
      "text/plain": [
       "6"
      ]
     },
     "execution_count": 6,
     "metadata": {},
     "output_type": "execute_result"
    }
   ],
   "source": [
    "a.size"
   ]
  },
  {
   "cell_type": "code",
   "execution_count": 7,
   "id": "2c9f037b",
   "metadata": {},
   "outputs": [
    {
     "data": {
      "text/plain": [
       "10"
      ]
     },
     "execution_count": 7,
     "metadata": {},
     "output_type": "execute_result"
    }
   ],
   "source": [
    "a[0]"
   ]
  },
  {
   "cell_type": "code",
   "execution_count": 8,
   "id": "3b8d8565",
   "metadata": {},
   "outputs": [
    {
     "data": {
      "text/plain": [
       "30"
      ]
     },
     "execution_count": 8,
     "metadata": {},
     "output_type": "execute_result"
    }
   ],
   "source": [
    "a[2]"
   ]
  },
  {
   "cell_type": "code",
   "execution_count": 9,
   "id": "7d1f5119",
   "metadata": {},
   "outputs": [
    {
     "data": {
      "text/plain": [
       "50"
      ]
     },
     "execution_count": 9,
     "metadata": {},
     "output_type": "execute_result"
    }
   ],
   "source": [
    "a[-2]"
   ]
  },
  {
   "cell_type": "markdown",
   "id": "e9b375bd",
   "metadata": {},
   "source": [
    "#### Multi dimensional array"
   ]
  },
  {
   "cell_type": "code",
   "execution_count": 10,
   "id": "14d41d72",
   "metadata": {},
   "outputs": [],
   "source": [
    "b=np.array([[10,20,30],[40,50,60]])"
   ]
  },
  {
   "cell_type": "markdown",
   "id": "c30f7c92",
   "metadata": {},
   "source": [
    "### attributes of arrays"
   ]
  },
  {
   "cell_type": "code",
   "execution_count": 11,
   "id": "14397479",
   "metadata": {},
   "outputs": [
    {
     "data": {
      "text/plain": [
       "(2, 3)"
      ]
     },
     "execution_count": 11,
     "metadata": {},
     "output_type": "execute_result"
    }
   ],
   "source": [
    "b.shape"
   ]
  },
  {
   "cell_type": "code",
   "execution_count": 12,
   "id": "00e2875b",
   "metadata": {},
   "outputs": [
    {
     "data": {
      "text/plain": [
       "dtype('int32')"
      ]
     },
     "execution_count": 12,
     "metadata": {},
     "output_type": "execute_result"
    }
   ],
   "source": [
    "b.dtype"
   ]
  },
  {
   "cell_type": "code",
   "execution_count": 13,
   "id": "f2c71912",
   "metadata": {},
   "outputs": [
    {
     "data": {
      "text/plain": [
       "array([[10, 20, 30],\n",
       "       [40, 50, 60]])"
      ]
     },
     "execution_count": 13,
     "metadata": {},
     "output_type": "execute_result"
    }
   ],
   "source": [
    "b"
   ]
  },
  {
   "cell_type": "code",
   "execution_count": 15,
   "id": "8074bec9",
   "metadata": {},
   "outputs": [
    {
     "data": {
      "text/plain": [
       "6"
      ]
     },
     "execution_count": 15,
     "metadata": {},
     "output_type": "execute_result"
    }
   ],
   "source": [
    "b.size"
   ]
  },
  {
   "cell_type": "code",
   "execution_count": 16,
   "id": "a8c17fa5",
   "metadata": {},
   "outputs": [
    {
     "data": {
      "text/plain": [
       "2"
      ]
     },
     "execution_count": 16,
     "metadata": {},
     "output_type": "execute_result"
    }
   ],
   "source": [
    "b.ndim"
   ]
  },
  {
   "cell_type": "markdown",
   "id": "320a6b9c",
   "metadata": {},
   "source": [
    "#### indexing"
   ]
  },
  {
   "cell_type": "code",
   "execution_count": 17,
   "id": "c6ce2c1a",
   "metadata": {},
   "outputs": [
    {
     "data": {
      "text/plain": [
       "array([10, 20, 30])"
      ]
     },
     "execution_count": 17,
     "metadata": {},
     "output_type": "execute_result"
    }
   ],
   "source": [
    "b[0]"
   ]
  },
  {
   "cell_type": "code",
   "execution_count": 18,
   "id": "ba9d7be6",
   "metadata": {},
   "outputs": [
    {
     "data": {
      "text/plain": [
       "array([40, 50, 60])"
      ]
     },
     "execution_count": 18,
     "metadata": {},
     "output_type": "execute_result"
    }
   ],
   "source": [
    "b[1]"
   ]
  },
  {
   "cell_type": "code",
   "execution_count": 20,
   "id": "4a5252b0",
   "metadata": {},
   "outputs": [
    {
     "data": {
      "text/plain": [
       "array([40, 50, 60])"
      ]
     },
     "execution_count": 20,
     "metadata": {},
     "output_type": "execute_result"
    }
   ],
   "source": [
    "b[-1]"
   ]
  },
  {
   "cell_type": "markdown",
   "id": "13ce0440",
   "metadata": {},
   "source": [
    "#### another type of multi dimensional arrays"
   ]
  },
  {
   "cell_type": "code",
   "execution_count": 33,
   "id": "53162eef",
   "metadata": {},
   "outputs": [],
   "source": [
    "c=np.array([[[1,2,3,4],[5,6,7]]])"
   ]
  },
  {
   "cell_type": "code",
   "execution_count": 34,
   "id": "c23b7c03",
   "metadata": {},
   "outputs": [
    {
     "data": {
      "text/plain": [
       "array([[list([1, 2, 3, 4]), list([5, 6, 7])]], dtype=object)"
      ]
     },
     "execution_count": 34,
     "metadata": {},
     "output_type": "execute_result"
    }
   ],
   "source": [
    "c"
   ]
  },
  {
   "cell_type": "code",
   "execution_count": 35,
   "id": "7e0e84d2",
   "metadata": {},
   "outputs": [
    {
     "data": {
      "text/plain": [
       "(1, 2)"
      ]
     },
     "execution_count": 35,
     "metadata": {},
     "output_type": "execute_result"
    }
   ],
   "source": [
    "c.shape"
   ]
  },
  {
   "cell_type": "code",
   "execution_count": 25,
   "id": "cc492652",
   "metadata": {},
   "outputs": [
    {
     "data": {
      "text/plain": [
       "4"
      ]
     },
     "execution_count": 25,
     "metadata": {},
     "output_type": "execute_result"
    }
   ],
   "source": [
    "c.size"
   ]
  },
  {
   "cell_type": "code",
   "execution_count": 26,
   "id": "a0b42fd6",
   "metadata": {},
   "outputs": [
    {
     "data": {
      "text/plain": [
       "3"
      ]
     },
     "execution_count": 26,
     "metadata": {},
     "output_type": "execute_result"
    }
   ],
   "source": [
    "c.ndim"
   ]
  },
  {
   "cell_type": "code",
   "execution_count": 27,
   "id": "cf8b3bb9",
   "metadata": {},
   "outputs": [
    {
     "data": {
      "text/plain": [
       "dtype('int32')"
      ]
     },
     "execution_count": 27,
     "metadata": {},
     "output_type": "execute_result"
    }
   ],
   "source": [
    "c.dtype"
   ]
  },
  {
   "cell_type": "markdown",
   "id": "edb0b83d",
   "metadata": {},
   "source": [
    "#### first element in first array"
   ]
  },
  {
   "cell_type": "code",
   "execution_count": 28,
   "id": "74519b3e",
   "metadata": {},
   "outputs": [
    {
     "data": {
      "text/plain": [
       "10"
      ]
     },
     "execution_count": 28,
     "metadata": {},
     "output_type": "execute_result"
    }
   ],
   "source": [
    "b[0][0]"
   ]
  },
  {
   "cell_type": "code",
   "execution_count": 31,
   "id": "cbc503c8",
   "metadata": {},
   "outputs": [
    {
     "data": {
      "text/plain": [
       "40"
      ]
     },
     "execution_count": 31,
     "metadata": {},
     "output_type": "execute_result"
    }
   ],
   "source": [
    "b[1][0]"
   ]
  },
  {
   "cell_type": "code",
   "execution_count": 39,
   "id": "3dc56ac0",
   "metadata": {},
   "outputs": [
    {
     "data": {
      "text/plain": [
       "[1, 2, 3, 4]"
      ]
     },
     "execution_count": 39,
     "metadata": {},
     "output_type": "execute_result"
    }
   ],
   "source": [
    "c[0][0]"
   ]
  },
  {
   "cell_type": "markdown",
   "id": "beb62cf7",
   "metadata": {},
   "source": [
    "#### second element in second array"
   ]
  },
  {
   "cell_type": "code",
   "execution_count": 41,
   "id": "d90a0780",
   "metadata": {},
   "outputs": [
    {
     "data": {
      "text/plain": [
       "50"
      ]
     },
     "execution_count": 41,
     "metadata": {},
     "output_type": "execute_result"
    }
   ],
   "source": [
    "b[1][1]"
   ]
  },
  {
   "cell_type": "markdown",
   "id": "7b75240c",
   "metadata": {},
   "source": [
    "#### change datatype into float"
   ]
  },
  {
   "cell_type": "code",
   "execution_count": 42,
   "id": "43cfd162",
   "metadata": {},
   "outputs": [],
   "source": [
    "b=np.array([[10,20,30,],[23,55,15]],dtype=float)"
   ]
  },
  {
   "cell_type": "code",
   "execution_count": 45,
   "id": "a69e5ec6",
   "metadata": {},
   "outputs": [],
   "source": [
    "a=np.array([[[[1,2,3,4,5,6]]]])"
   ]
  },
  {
   "cell_type": "code",
   "execution_count": 46,
   "id": "860ec238",
   "metadata": {},
   "outputs": [
    {
     "data": {
      "text/plain": [
       "4"
      ]
     },
     "execution_count": 46,
     "metadata": {},
     "output_type": "execute_result"
    }
   ],
   "source": [
    "a[0,0,0,3]"
   ]
  },
  {
   "cell_type": "code",
   "execution_count": 48,
   "id": "f8d646eb",
   "metadata": {},
   "outputs": [
    {
     "data": {
      "text/plain": [
       "array([[10., 20., 30.],\n",
       "       [23., 55., 15.]])"
      ]
     },
     "execution_count": 48,
     "metadata": {},
     "output_type": "execute_result"
    }
   ],
   "source": [
    "b"
   ]
  },
  {
   "cell_type": "markdown",
   "id": "8ac2c7f0",
   "metadata": {},
   "source": [
    "#### create a bigger array"
   ]
  },
  {
   "cell_type": "code",
   "execution_count": 8,
   "id": "be259a33",
   "metadata": {},
   "outputs": [],
   "source": [
    "a1=np.array([\n",
    "    [\n",
    "    [10,20,30,40],[8,8,2,1],[1,1,1,2]\n",
    "    ],\n",
    "    [\n",
    "    [9,9,2,39],[1,2,3,4],[5,6,7,8]\n",
    "    ],\n",
    "    [\n",
    "    [11,22,33,44],[55,66,77,88],[99,52,45,78]    \n",
    "    ]\n",
    "    ],dtype=float)   \n",
    "    \n"
   ]
  },
  {
   "cell_type": "code",
   "execution_count": 9,
   "id": "836b77b8",
   "metadata": {},
   "outputs": [
    {
     "data": {
      "text/plain": [
       "(3, 3, 4)"
      ]
     },
     "execution_count": 9,
     "metadata": {},
     "output_type": "execute_result"
    }
   ],
   "source": [
    "a1.shape"
   ]
  },
  {
   "cell_type": "code",
   "execution_count": 10,
   "id": "37d2c17a",
   "metadata": {},
   "outputs": [
    {
     "data": {
      "text/plain": [
       "3"
      ]
     },
     "execution_count": 10,
     "metadata": {},
     "output_type": "execute_result"
    }
   ],
   "source": [
    "a1.ndim"
   ]
  },
  {
   "cell_type": "code",
   "execution_count": 11,
   "id": "72bf997d",
   "metadata": {},
   "outputs": [
    {
     "data": {
      "text/plain": [
       "36"
      ]
     },
     "execution_count": 11,
     "metadata": {},
     "output_type": "execute_result"
    }
   ],
   "source": [
    "a1.size"
   ]
  },
  {
   "cell_type": "code",
   "execution_count": 13,
   "id": "6735732c",
   "metadata": {},
   "outputs": [
    {
     "data": {
      "text/plain": [
       "78.0"
      ]
     },
     "execution_count": 13,
     "metadata": {},
     "output_type": "execute_result"
    }
   ],
   "source": [
    "a1[2][2][3]"
   ]
  },
  {
   "cell_type": "code",
   "execution_count": 14,
   "id": "8a4928f5",
   "metadata": {},
   "outputs": [
    {
     "data": {
      "text/plain": [
       "array([99., 52., 45., 78.])"
      ]
     },
     "execution_count": 14,
     "metadata": {},
     "output_type": "execute_result"
    }
   ],
   "source": [
    "a1[2][2]"
   ]
  },
  {
   "cell_type": "code",
   "execution_count": 15,
   "id": "4efc88a0",
   "metadata": {},
   "outputs": [
    {
     "data": {
      "text/plain": [
       "3.0"
      ]
     },
     "execution_count": 15,
     "metadata": {},
     "output_type": "execute_result"
    }
   ],
   "source": [
    "a1[1][1][2]"
   ]
  },
  {
   "cell_type": "markdown",
   "id": "ddab65bc",
   "metadata": {},
   "source": [
    "#### filling arrays"
   ]
  },
  {
   "cell_type": "code",
   "execution_count": 24,
   "id": "7f229dbb",
   "metadata": {},
   "outputs": [],
   "source": [
    "a_full=np.full((5,5,4),7)"
   ]
  },
  {
   "cell_type": "code",
   "execution_count": 25,
   "id": "f34de7f6",
   "metadata": {},
   "outputs": [
    {
     "data": {
      "text/plain": [
       "array([[[7, 7, 7, 7],\n",
       "        [7, 7, 7, 7],\n",
       "        [7, 7, 7, 7],\n",
       "        [7, 7, 7, 7],\n",
       "        [7, 7, 7, 7]],\n",
       "\n",
       "       [[7, 7, 7, 7],\n",
       "        [7, 7, 7, 7],\n",
       "        [7, 7, 7, 7],\n",
       "        [7, 7, 7, 7],\n",
       "        [7, 7, 7, 7]],\n",
       "\n",
       "       [[7, 7, 7, 7],\n",
       "        [7, 7, 7, 7],\n",
       "        [7, 7, 7, 7],\n",
       "        [7, 7, 7, 7],\n",
       "        [7, 7, 7, 7]],\n",
       "\n",
       "       [[7, 7, 7, 7],\n",
       "        [7, 7, 7, 7],\n",
       "        [7, 7, 7, 7],\n",
       "        [7, 7, 7, 7],\n",
       "        [7, 7, 7, 7]],\n",
       "\n",
       "       [[7, 7, 7, 7],\n",
       "        [7, 7, 7, 7],\n",
       "        [7, 7, 7, 7],\n",
       "        [7, 7, 7, 7],\n",
       "        [7, 7, 7, 7]]])"
      ]
     },
     "execution_count": 25,
     "metadata": {},
     "output_type": "execute_result"
    }
   ],
   "source": [
    "a_full"
   ]
  },
  {
   "cell_type": "code",
   "execution_count": 18,
   "id": "ce05aefd",
   "metadata": {},
   "outputs": [],
   "source": [
    "b_full=np.full((2,4,3),8)"
   ]
  },
  {
   "cell_type": "code",
   "execution_count": 19,
   "id": "781936cd",
   "metadata": {},
   "outputs": [
    {
     "data": {
      "text/plain": [
       "array([[[8, 8, 8],\n",
       "        [8, 8, 8],\n",
       "        [8, 8, 8],\n",
       "        [8, 8, 8]],\n",
       "\n",
       "       [[8, 8, 8],\n",
       "        [8, 8, 8],\n",
       "        [8, 8, 8],\n",
       "        [8, 8, 8]]])"
      ]
     },
     "execution_count": 19,
     "metadata": {},
     "output_type": "execute_result"
    }
   ],
   "source": [
    "b_full"
   ]
  },
  {
   "cell_type": "code",
   "execution_count": 27,
   "id": "0b159b95",
   "metadata": {},
   "outputs": [
    {
     "data": {
      "text/plain": [
       "3"
      ]
     },
     "execution_count": 27,
     "metadata": {},
     "output_type": "execute_result"
    }
   ],
   "source": [
    "a_full.ndim"
   ]
  },
  {
   "cell_type": "code",
   "execution_count": 21,
   "id": "8299f3bb",
   "metadata": {},
   "outputs": [
    {
     "data": {
      "text/plain": [
       "3"
      ]
     },
     "execution_count": 21,
     "metadata": {},
     "output_type": "execute_result"
    }
   ],
   "source": [
    "b_full.ndim"
   ]
  },
  {
   "cell_type": "markdown",
   "id": "11bfbc1e",
   "metadata": {},
   "source": [
    "### zeros and ones"
   ]
  },
  {
   "cell_type": "code",
   "execution_count": 28,
   "id": "b776684c",
   "metadata": {},
   "outputs": [
    {
     "data": {
      "text/plain": [
       "array([[0., 0., 0.],\n",
       "       [0., 0., 0.],\n",
       "       [0., 0., 0.]])"
      ]
     },
     "execution_count": 28,
     "metadata": {},
     "output_type": "execute_result"
    }
   ],
   "source": [
    "a_zeros=np.zeros((3,3))\n",
    "a_zeros"
   ]
  },
  {
   "cell_type": "code",
   "execution_count": 29,
   "id": "be8a31f1",
   "metadata": {},
   "outputs": [
    {
     "data": {
      "text/plain": [
       "array([[[1., 1., 1., 1.],\n",
       "        [1., 1., 1., 1.],\n",
       "        [1., 1., 1., 1.]],\n",
       "\n",
       "       [[1., 1., 1., 1.],\n",
       "        [1., 1., 1., 1.],\n",
       "        [1., 1., 1., 1.]]])"
      ]
     },
     "execution_count": 29,
     "metadata": {},
     "output_type": "execute_result"
    }
   ],
   "source": [
    "b2=np.ones((2,3,4))\n",
    "b2"
   ]
  },
  {
   "cell_type": "code",
   "execution_count": 30,
   "id": "ff515806",
   "metadata": {},
   "outputs": [
    {
     "data": {
      "text/plain": [
       "3"
      ]
     },
     "execution_count": 30,
     "metadata": {},
     "output_type": "execute_result"
    }
   ],
   "source": [
    "b2.ndim"
   ]
  },
  {
   "cell_type": "markdown",
   "id": "31119837",
   "metadata": {},
   "source": [
    "### empty and random"
   ]
  },
  {
   "cell_type": "code",
   "execution_count": 31,
   "id": "df4e1ad6",
   "metadata": {},
   "outputs": [
    {
     "data": {
      "text/plain": [
       "array([[6.23042070e-307, 4.67296746e-307, 1.69121096e-306,\n",
       "        2.33646845e-307],\n",
       "       [1.11256817e-306, 1.06811422e-306, 1.42417221e-306,\n",
       "        1.11260619e-306],\n",
       "       [8.90094053e-307, 1.86919378e-306, 1.06809792e-306,\n",
       "        1.37962456e-306],\n",
       "       [1.69111861e-306, 1.78020169e-306, 1.37961777e-306,\n",
       "        7.56599807e-307]])"
      ]
     },
     "execution_count": 31,
     "metadata": {},
     "output_type": "execute_result"
    }
   ],
   "source": [
    "e=np.empty((4,4))\n",
    "e"
   ]
  },
  {
   "cell_type": "code",
   "execution_count": 32,
   "id": "f4c1f097",
   "metadata": {},
   "outputs": [
    {
     "data": {
      "text/plain": [
       "array([[0.88068865, 0.50421687],\n",
       "       [0.88674881, 0.03701331]])"
      ]
     },
     "execution_count": 32,
     "metadata": {},
     "output_type": "execute_result"
    }
   ],
   "source": [
    "a_random=np.random.random((2,2))\n",
    "a_random"
   ]
  },
  {
   "cell_type": "code",
   "execution_count": 33,
   "id": "fd4f8004",
   "metadata": {},
   "outputs": [
    {
     "data": {
      "text/plain": [
       "2"
      ]
     },
     "execution_count": 33,
     "metadata": {},
     "output_type": "execute_result"
    }
   ],
   "source": [
    "a_random.ndim"
   ]
  },
  {
   "cell_type": "code",
   "execution_count": 34,
   "id": "6149f04e",
   "metadata": {},
   "outputs": [
    {
     "data": {
      "text/plain": [
       "4"
      ]
     },
     "execution_count": 34,
     "metadata": {},
     "output_type": "execute_result"
    }
   ],
   "source": [
    "a_random.size"
   ]
  },
  {
   "cell_type": "markdown",
   "id": "ebe42462",
   "metadata": {},
   "source": [
    "### ranges"
   ]
  },
  {
   "cell_type": "markdown",
   "id": "c2c92bdc",
   "metadata": {},
   "source": [
    "### Arange"
   ]
  },
  {
   "cell_type": "code",
   "execution_count": 35,
   "id": "c2649800",
   "metadata": {},
   "outputs": [],
   "source": [
    "arange=np.arange(10,50,5)"
   ]
  },
  {
   "cell_type": "code",
   "execution_count": 36,
   "id": "05ce5e0c",
   "metadata": {},
   "outputs": [
    {
     "data": {
      "text/plain": [
       "array([10, 15, 20, 25, 30, 35, 40, 45])"
      ]
     },
     "execution_count": 36,
     "metadata": {},
     "output_type": "execute_result"
    }
   ],
   "source": [
    "arange"
   ]
  },
  {
   "cell_type": "markdown",
   "id": "5674f358",
   "metadata": {},
   "source": [
    "### linspace"
   ]
  },
  {
   "cell_type": "markdown",
   "id": "265aba42",
   "metadata": {},
   "source": [
    "#### start-stop number of values"
   ]
  },
  {
   "cell_type": "code",
   "execution_count": 39,
   "id": "f49b7a14",
   "metadata": {},
   "outputs": [
    {
     "data": {
      "text/plain": [
       "array([ 0., 50.])"
      ]
     },
     "execution_count": 39,
     "metadata": {},
     "output_type": "execute_result"
    }
   ],
   "source": [
    "linspace=np.linspace(0,50,2)\n",
    "linspace"
   ]
  },
  {
   "cell_type": "code",
   "execution_count": 41,
   "id": "99a5fbed",
   "metadata": {},
   "outputs": [
    {
     "data": {
      "text/plain": [
       "1"
      ]
     },
     "execution_count": 41,
     "metadata": {},
     "output_type": "execute_result"
    }
   ],
   "source": [
    "linspace.ndim"
   ]
  },
  {
   "cell_type": "code",
   "execution_count": 42,
   "id": "3617d3cf",
   "metadata": {},
   "outputs": [
    {
     "data": {
      "text/plain": [
       "2"
      ]
     },
     "execution_count": 42,
     "metadata": {},
     "output_type": "execute_result"
    }
   ],
   "source": [
    "linspace.size"
   ]
  },
  {
   "cell_type": "code",
   "execution_count": 43,
   "id": "1285c27d",
   "metadata": {},
   "outputs": [],
   "source": [
    "linspace1=np.linspace(0,50,30)"
   ]
  },
  {
   "cell_type": "code",
   "execution_count": 44,
   "id": "8e4f7e9a",
   "metadata": {},
   "outputs": [
    {
     "data": {
      "text/plain": [
       "array([ 0.        ,  1.72413793,  3.44827586,  5.17241379,  6.89655172,\n",
       "        8.62068966, 10.34482759, 12.06896552, 13.79310345, 15.51724138,\n",
       "       17.24137931, 18.96551724, 20.68965517, 22.4137931 , 24.13793103,\n",
       "       25.86206897, 27.5862069 , 29.31034483, 31.03448276, 32.75862069,\n",
       "       34.48275862, 36.20689655, 37.93103448, 39.65517241, 41.37931034,\n",
       "       43.10344828, 44.82758621, 46.55172414, 48.27586207, 50.        ])"
      ]
     },
     "execution_count": 44,
     "metadata": {},
     "output_type": "execute_result"
    }
   ],
   "source": [
    "linspace1"
   ]
  },
  {
   "cell_type": "code",
   "execution_count": 45,
   "id": "bd9f9d42",
   "metadata": {},
   "outputs": [
    {
     "data": {
      "text/plain": [
       "30"
      ]
     },
     "execution_count": 45,
     "metadata": {},
     "output_type": "execute_result"
    }
   ],
   "source": [
    "linspace1.size"
   ]
  },
  {
   "cell_type": "code",
   "execution_count": 46,
   "id": "6a3856f4",
   "metadata": {},
   "outputs": [
    {
     "data": {
      "text/plain": [
       "array([ 0,  2,  4,  6,  8, 10, 12, 14, 16, 18, 20, 22, 25, 27, 29, 31, 33,\n",
       "       35, 37, 39, 41, 43, 45, 47, 50])"
      ]
     },
     "execution_count": 46,
     "metadata": {},
     "output_type": "execute_result"
    }
   ],
   "source": [
    "linspace2=np.linspace(0,50,25,dtype=int)\n",
    "linspace2\n"
   ]
  },
  {
   "cell_type": "markdown",
   "id": "1714dcfc",
   "metadata": {},
   "source": [
    "### math functions"
   ]
  },
  {
   "cell_type": "code",
   "execution_count": 47,
   "id": "21cb5d5d",
   "metadata": {},
   "outputs": [
    {
     "data": {
      "text/plain": [
       "array([ 10,  20,  30,  40,  50,  60,  70,  80,  90, 100])"
      ]
     },
     "execution_count": 47,
     "metadata": {},
     "output_type": "execute_result"
    }
   ],
   "source": [
    "a=np.array([10,20,30,40,50,60,70,80,90,100])\n",
    "a"
   ]
  },
  {
   "cell_type": "code",
   "execution_count": 48,
   "id": "7c7550fa",
   "metadata": {},
   "outputs": [
    {
     "data": {
      "text/plain": [
       "array([2.20264658e+04, 4.85165195e+08, 1.06864746e+13, 2.35385267e+17,\n",
       "       5.18470553e+21, 1.14200739e+26, 2.51543867e+30, 5.54062238e+34,\n",
       "       1.22040329e+39, 2.68811714e+43])"
      ]
     },
     "execution_count": 48,
     "metadata": {},
     "output_type": "execute_result"
    }
   ],
   "source": [
    "np.exp(a)"
   ]
  },
  {
   "cell_type": "code",
   "execution_count": 49,
   "id": "e2573f94",
   "metadata": {},
   "outputs": [
    {
     "data": {
      "text/plain": [
       "array([-0.54402111,  0.91294525, -0.98803162,  0.74511316, -0.26237485,\n",
       "       -0.30481062,  0.77389068, -0.99388865,  0.89399666, -0.50636564])"
      ]
     },
     "execution_count": 49,
     "metadata": {},
     "output_type": "execute_result"
    }
   ],
   "source": [
    "np.sin(a)"
   ]
  },
  {
   "cell_type": "code",
   "execution_count": 50,
   "id": "575b5f21",
   "metadata": {},
   "outputs": [
    {
     "data": {
      "text/plain": [
       "array([-0.83907153,  0.40808206,  0.15425145, -0.66693806,  0.96496603,\n",
       "       -0.95241298,  0.6333192 , -0.11038724, -0.44807362,  0.86231887])"
      ]
     },
     "execution_count": 50,
     "metadata": {},
     "output_type": "execute_result"
    }
   ],
   "source": [
    "np.cos(a)"
   ]
  },
  {
   "cell_type": "code",
   "execution_count": 51,
   "id": "0c9087d2",
   "metadata": {},
   "outputs": [
    {
     "data": {
      "text/plain": [
       "array([ 0.64836083,  2.23716094, -6.4053312 , -1.11721493, -0.27190061,\n",
       "        0.32004039,  1.22195992,  9.00365495, -1.99520041, -0.58721392])"
      ]
     },
     "execution_count": 51,
     "metadata": {},
     "output_type": "execute_result"
    }
   ],
   "source": [
    "np.tan(a)"
   ]
  },
  {
   "cell_type": "code",
   "execution_count": 52,
   "id": "4c68256a",
   "metadata": {},
   "outputs": [
    {
     "data": {
      "text/plain": [
       "array([2.30258509, 2.99573227, 3.40119738, 3.68887945, 3.91202301,\n",
       "       4.09434456, 4.24849524, 4.38202663, 4.49980967, 4.60517019])"
      ]
     },
     "execution_count": 52,
     "metadata": {},
     "output_type": "execute_result"
    }
   ],
   "source": [
    "np.log(a)"
   ]
  },
  {
   "cell_type": "code",
   "execution_count": 53,
   "id": "111da2fd",
   "metadata": {},
   "outputs": [
    {
     "data": {
      "text/plain": [
       "array([ 3.16227766,  4.47213595,  5.47722558,  6.32455532,  7.07106781,\n",
       "        7.74596669,  8.36660027,  8.94427191,  9.48683298, 10.        ])"
      ]
     },
     "execution_count": 53,
     "metadata": {},
     "output_type": "execute_result"
    }
   ],
   "source": [
    "np.sqrt(a)"
   ]
  },
  {
   "cell_type": "markdown",
   "id": "b994d3ff",
   "metadata": {},
   "source": [
    "#### aggregate functions"
   ]
  },
  {
   "cell_type": "code",
   "execution_count": 54,
   "id": "78e5b563",
   "metadata": {},
   "outputs": [
    {
     "data": {
      "text/plain": [
       "550"
      ]
     },
     "execution_count": 54,
     "metadata": {},
     "output_type": "execute_result"
    }
   ],
   "source": [
    "a.sum()"
   ]
  },
  {
   "cell_type": "code",
   "execution_count": 55,
   "id": "d7407054",
   "metadata": {},
   "outputs": [
    {
     "data": {
      "text/plain": [
       "10"
      ]
     },
     "execution_count": 55,
     "metadata": {},
     "output_type": "execute_result"
    }
   ],
   "source": [
    "a.min()"
   ]
  },
  {
   "cell_type": "code",
   "execution_count": 56,
   "id": "72739eac",
   "metadata": {},
   "outputs": [
    {
     "data": {
      "text/plain": [
       "100"
      ]
     },
     "execution_count": 56,
     "metadata": {},
     "output_type": "execute_result"
    }
   ],
   "source": [
    "a.max()"
   ]
  },
  {
   "cell_type": "code",
   "execution_count": 57,
   "id": "d87dfa63",
   "metadata": {},
   "outputs": [
    {
     "data": {
      "text/plain": [
       "55.0"
      ]
     },
     "execution_count": 57,
     "metadata": {},
     "output_type": "execute_result"
    }
   ],
   "source": [
    "a.mean()"
   ]
  },
  {
   "cell_type": "code",
   "execution_count": 58,
   "id": "f0f18798",
   "metadata": {},
   "outputs": [
    {
     "data": {
      "text/plain": [
       "55.0"
      ]
     },
     "execution_count": 58,
     "metadata": {},
     "output_type": "execute_result"
    }
   ],
   "source": [
    "np.median(a)"
   ]
  },
  {
   "cell_type": "code",
   "execution_count": 59,
   "id": "a6d83c63",
   "metadata": {},
   "outputs": [
    {
     "data": {
      "text/plain": [
       "28.722813232690143"
      ]
     },
     "execution_count": 59,
     "metadata": {},
     "output_type": "execute_result"
    }
   ],
   "source": [
    "np.std(a)"
   ]
  },
  {
   "cell_type": "markdown",
   "id": "85c6808c",
   "metadata": {},
   "source": [
    "#### create some arrays and apply all the functions"
   ]
  },
  {
   "cell_type": "code",
   "execution_count": 61,
   "id": "eeaf1158",
   "metadata": {},
   "outputs": [
    {
     "data": {
      "text/plain": [
       "25.0"
      ]
     },
     "execution_count": 61,
     "metadata": {},
     "output_type": "execute_result"
    }
   ],
   "source": [
    "np.median(linspace2)"
   ]
  },
  {
   "cell_type": "code",
   "execution_count": 62,
   "id": "a87717ea",
   "metadata": {},
   "outputs": [
    {
     "data": {
      "text/plain": [
       "614"
      ]
     },
     "execution_count": 62,
     "metadata": {},
     "output_type": "execute_result"
    }
   ],
   "source": [
    "np.sum(linspace2)"
   ]
  },
  {
   "cell_type": "code",
   "execution_count": 63,
   "id": "dea42321",
   "metadata": {},
   "outputs": [
    {
     "data": {
      "text/plain": [
       "array([0.        , 1.41421356, 2.        , 2.44948974, 2.82842712,\n",
       "       3.16227766, 3.46410162, 3.74165739, 4.        , 4.24264069,\n",
       "       4.47213595, 4.69041576, 5.        , 5.19615242, 5.38516481,\n",
       "       5.56776436, 5.74456265, 5.91607978, 6.08276253, 6.244998  ,\n",
       "       6.40312424, 6.55743852, 6.70820393, 6.8556546 , 7.07106781])"
      ]
     },
     "execution_count": 63,
     "metadata": {},
     "output_type": "execute_result"
    }
   ],
   "source": [
    "np.sqrt(linspace2)"
   ]
  },
  {
   "cell_type": "code",
   "execution_count": 64,
   "id": "49307d40",
   "metadata": {},
   "outputs": [
    {
     "data": {
      "text/plain": [
       "14.924020905908701"
      ]
     },
     "execution_count": 64,
     "metadata": {},
     "output_type": "execute_result"
    }
   ],
   "source": [
    "np.std(linspace2)"
   ]
  },
  {
   "cell_type": "code",
   "execution_count": 65,
   "id": "899a70a6",
   "metadata": {},
   "outputs": [
    {
     "data": {
      "text/plain": [
       "array([ 1.        , -0.41614684, -0.65364362,  0.96017029, -0.14550003,\n",
       "       -0.83907153,  0.84385396,  0.13673722, -0.95765948,  0.66031671,\n",
       "        0.40808206, -0.99996083,  0.99120281, -0.29213881, -0.74805753,\n",
       "        0.91474236, -0.01327675, -0.90369221,  0.76541405,  0.26664293,\n",
       "       -0.98733928,  0.5551133 ,  0.52532199, -0.99233547,  0.96496603])"
      ]
     },
     "execution_count": 65,
     "metadata": {},
     "output_type": "execute_result"
    }
   ],
   "source": [
    "np.cos(linspace2)"
   ]
  },
  {
   "cell_type": "code",
   "execution_count": null,
   "id": "c7ff53e6",
   "metadata": {},
   "outputs": [],
   "source": []
  }
 ],
 "metadata": {
  "kernelspec": {
   "display_name": "Python 3 (ipykernel)",
   "language": "python",
   "name": "python3"
  },
  "language_info": {
   "codemirror_mode": {
    "name": "ipython",
    "version": 3
   },
   "file_extension": ".py",
   "mimetype": "text/x-python",
   "name": "python",
   "nbconvert_exporter": "python",
   "pygments_lexer": "ipython3",
   "version": "3.9.13"
  }
 },
 "nbformat": 4,
 "nbformat_minor": 5
}
